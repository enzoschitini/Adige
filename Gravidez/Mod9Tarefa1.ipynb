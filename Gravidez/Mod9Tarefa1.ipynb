{
 "cells": [
  {
   "cell_type": "markdown",
   "metadata": {},
   "source": [
    "# Livro para consulta:\n",
    "- https://jakevdp.github.io/PythonDataScienceHandbook/03.08-aggregation-and-grouping.html\n",
    "- https://jakevdp.github.io/PythonDataScienceHandbook/03.09-pivot-tables.html\n",
    "    "
   ]
  },
  {
   "cell_type": "markdown",
   "metadata": {},
   "source": [
    "# 1. Importando bibliotecas <a name=\"import\"></a>\n",
    "\n",
    "<div style=\"text-align: right\"\n",
    "     \n",
    "[Voltar ao índice](#Contents)"
   ]
  },
  {
   "cell_type": "code",
   "execution_count": 45,
   "metadata": {
    "ExecuteTime": {
     "end_time": "2021-06-06T21:12:37.298706Z",
     "start_time": "2021-06-06T21:12:36.656481Z"
    }
   },
   "outputs": [],
   "source": [
    "import numpy as np\n",
    "import pandas as pd\n",
    "import seaborn as sns\n",
    "import matplotlib.pyplot as plt\n",
    "\n",
    "%matplotlib inline"
   ]
  },
  {
   "cell_type": "markdown",
   "metadata": {},
   "source": [
    "# 2. Carregando o dataframe SINASC <a name=\"read\"></a>\n",
    "<div style=\"text-align: right\"\n",
    "     \n",
    "[Voltar ao índice](#Contents)"
   ]
  },
  {
   "cell_type": "code",
   "execution_count": 46,
   "metadata": {
    "ExecuteTime": {
     "end_time": "2021-06-06T21:12:37.762376Z",
     "start_time": "2021-06-06T21:12:37.728383Z"
    },
    "scrolled": true
   },
   "outputs": [
    {
     "data": {
      "text/html": [
       "<div>\n",
       "<style scoped>\n",
       "    .dataframe tbody tr th:only-of-type {\n",
       "        vertical-align: middle;\n",
       "    }\n",
       "\n",
       "    .dataframe tbody tr th {\n",
       "        vertical-align: top;\n",
       "    }\n",
       "\n",
       "    .dataframe thead th {\n",
       "        text-align: right;\n",
       "    }\n",
       "</style>\n",
       "<table border=\"1\" class=\"dataframe\">\n",
       "  <thead>\n",
       "    <tr style=\"text-align: right;\">\n",
       "      <th></th>\n",
       "      <th>ORIGEM</th>\n",
       "      <th>CODESTAB</th>\n",
       "      <th>CODMUNNASC</th>\n",
       "      <th>LOCNASC</th>\n",
       "      <th>IDADEMAE</th>\n",
       "      <th>ESTCIVMAE</th>\n",
       "      <th>ESCMAE</th>\n",
       "      <th>CODOCUPMAE</th>\n",
       "      <th>QTDFILVIVO</th>\n",
       "      <th>QTDFILMORT</th>\n",
       "      <th>...</th>\n",
       "      <th>KOTELCHUCK</th>\n",
       "      <th>CONTADOR</th>\n",
       "      <th>munResStatus</th>\n",
       "      <th>munResTipo</th>\n",
       "      <th>munResNome</th>\n",
       "      <th>munResUf</th>\n",
       "      <th>munResLat</th>\n",
       "      <th>munResLon</th>\n",
       "      <th>munResAlt</th>\n",
       "      <th>munResArea</th>\n",
       "    </tr>\n",
       "  </thead>\n",
       "  <tbody>\n",
       "    <tr>\n",
       "      <th>0</th>\n",
       "      <td>1</td>\n",
       "      <td>2679477.0</td>\n",
       "      <td>110001</td>\n",
       "      <td>1</td>\n",
       "      <td>19</td>\n",
       "      <td>5.0</td>\n",
       "      <td>8 a 11 anos</td>\n",
       "      <td>NaN</td>\n",
       "      <td>0.0</td>\n",
       "      <td>0.0</td>\n",
       "      <td>...</td>\n",
       "      <td>5</td>\n",
       "      <td>1</td>\n",
       "      <td>ATIVO</td>\n",
       "      <td>MUNIC</td>\n",
       "      <td>Alta Floresta D'Oeste</td>\n",
       "      <td>Rondônia</td>\n",
       "      <td>-11.93554</td>\n",
       "      <td>-61.99982</td>\n",
       "      <td>338.0</td>\n",
       "      <td>7067.025</td>\n",
       "    </tr>\n",
       "    <tr>\n",
       "      <th>1</th>\n",
       "      <td>1</td>\n",
       "      <td>2679477.0</td>\n",
       "      <td>110001</td>\n",
       "      <td>1</td>\n",
       "      <td>29</td>\n",
       "      <td>2.0</td>\n",
       "      <td>8 a 11 anos</td>\n",
       "      <td>999992.0</td>\n",
       "      <td>1.0</td>\n",
       "      <td>0.0</td>\n",
       "      <td>...</td>\n",
       "      <td>5</td>\n",
       "      <td>2</td>\n",
       "      <td>ATIVO</td>\n",
       "      <td>MUNIC</td>\n",
       "      <td>Alta Floresta D'Oeste</td>\n",
       "      <td>Rondônia</td>\n",
       "      <td>-11.93554</td>\n",
       "      <td>-61.99982</td>\n",
       "      <td>338.0</td>\n",
       "      <td>7067.025</td>\n",
       "    </tr>\n",
       "    <tr>\n",
       "      <th>2</th>\n",
       "      <td>1</td>\n",
       "      <td>2679477.0</td>\n",
       "      <td>110001</td>\n",
       "      <td>1</td>\n",
       "      <td>37</td>\n",
       "      <td>9.0</td>\n",
       "      <td>8 a 11 anos</td>\n",
       "      <td>513205.0</td>\n",
       "      <td>2.0</td>\n",
       "      <td>0.0</td>\n",
       "      <td>...</td>\n",
       "      <td>5</td>\n",
       "      <td>3</td>\n",
       "      <td>ATIVO</td>\n",
       "      <td>MUNIC</td>\n",
       "      <td>Alta Floresta D'Oeste</td>\n",
       "      <td>Rondônia</td>\n",
       "      <td>-11.93554</td>\n",
       "      <td>-61.99982</td>\n",
       "      <td>338.0</td>\n",
       "      <td>7067.025</td>\n",
       "    </tr>\n",
       "    <tr>\n",
       "      <th>3</th>\n",
       "      <td>1</td>\n",
       "      <td>2516500.0</td>\n",
       "      <td>110001</td>\n",
       "      <td>1</td>\n",
       "      <td>30</td>\n",
       "      <td>5.0</td>\n",
       "      <td>12 anos ou mais</td>\n",
       "      <td>231205.0</td>\n",
       "      <td>0.0</td>\n",
       "      <td>0.0</td>\n",
       "      <td>...</td>\n",
       "      <td>4</td>\n",
       "      <td>4</td>\n",
       "      <td>ATIVO</td>\n",
       "      <td>MUNIC</td>\n",
       "      <td>Alto Alegre dos Parecis</td>\n",
       "      <td>Rondônia</td>\n",
       "      <td>-12.13178</td>\n",
       "      <td>-61.85308</td>\n",
       "      <td>397.0</td>\n",
       "      <td>3958.273</td>\n",
       "    </tr>\n",
       "    <tr>\n",
       "      <th>4</th>\n",
       "      <td>1</td>\n",
       "      <td>2516500.0</td>\n",
       "      <td>110001</td>\n",
       "      <td>1</td>\n",
       "      <td>30</td>\n",
       "      <td>2.0</td>\n",
       "      <td>8 a 11 anos</td>\n",
       "      <td>999992.0</td>\n",
       "      <td>1.0</td>\n",
       "      <td>0.0</td>\n",
       "      <td>...</td>\n",
       "      <td>5</td>\n",
       "      <td>5</td>\n",
       "      <td>ATIVO</td>\n",
       "      <td>MUNIC</td>\n",
       "      <td>Alta Floresta D'Oeste</td>\n",
       "      <td>Rondônia</td>\n",
       "      <td>-11.93554</td>\n",
       "      <td>-61.99982</td>\n",
       "      <td>338.0</td>\n",
       "      <td>7067.025</td>\n",
       "    </tr>\n",
       "  </tbody>\n",
       "</table>\n",
       "<p>5 rows × 69 columns</p>\n",
       "</div>"
      ],
      "text/plain": [
       "   ORIGEM   CODESTAB  CODMUNNASC  LOCNASC  IDADEMAE  ESTCIVMAE  \\\n",
       "0       1  2679477.0      110001        1        19        5.0   \n",
       "1       1  2679477.0      110001        1        29        2.0   \n",
       "2       1  2679477.0      110001        1        37        9.0   \n",
       "3       1  2516500.0      110001        1        30        5.0   \n",
       "4       1  2516500.0      110001        1        30        2.0   \n",
       "\n",
       "            ESCMAE  CODOCUPMAE  QTDFILVIVO  QTDFILMORT  ...  KOTELCHUCK  \\\n",
       "0      8 a 11 anos         NaN         0.0         0.0  ...           5   \n",
       "1      8 a 11 anos    999992.0         1.0         0.0  ...           5   \n",
       "2      8 a 11 anos    513205.0         2.0         0.0  ...           5   \n",
       "3  12 anos ou mais    231205.0         0.0         0.0  ...           4   \n",
       "4      8 a 11 anos    999992.0         1.0         0.0  ...           5   \n",
       "\n",
       "  CONTADOR munResStatus munResTipo               munResNome  munResUf  \\\n",
       "0        1        ATIVO      MUNIC    Alta Floresta D'Oeste  Rondônia   \n",
       "1        2        ATIVO      MUNIC    Alta Floresta D'Oeste  Rondônia   \n",
       "2        3        ATIVO      MUNIC    Alta Floresta D'Oeste  Rondônia   \n",
       "3        4        ATIVO      MUNIC  Alto Alegre dos Parecis  Rondônia   \n",
       "4        5        ATIVO      MUNIC    Alta Floresta D'Oeste  Rondônia   \n",
       "\n",
       "   munResLat munResLon  munResAlt  munResArea  \n",
       "0  -11.93554 -61.99982      338.0    7067.025  \n",
       "1  -11.93554 -61.99982      338.0    7067.025  \n",
       "2  -11.93554 -61.99982      338.0    7067.025  \n",
       "3  -12.13178 -61.85308      397.0    3958.273  \n",
       "4  -11.93554 -61.99982      338.0    7067.025  \n",
       "\n",
       "[5 rows x 69 columns]"
      ]
     },
     "execution_count": 46,
     "metadata": {},
     "output_type": "execute_result"
    }
   ],
   "source": [
    "sinasc_raw = pd.read_csv('SINASC_RO_2019.csv')\n",
    "sinasc_raw.head()"
   ]
  },
  {
   "cell_type": "markdown",
   "metadata": {},
   "source": [
    "# Tarefa 1"
   ]
  },
  {
   "cell_type": "markdown",
   "metadata": {},
   "source": [
    "### 1. Idade media das mães e dos pais por município (coluna munResNome)\n"
   ]
  },
  {
   "cell_type": "code",
   "execution_count": 47,
   "metadata": {},
   "outputs": [
    {
     "data": {
      "text/html": [
       "<div>\n",
       "<style scoped>\n",
       "    .dataframe tbody tr th:only-of-type {\n",
       "        vertical-align: middle;\n",
       "    }\n",
       "\n",
       "    .dataframe tbody tr th {\n",
       "        vertical-align: top;\n",
       "    }\n",
       "\n",
       "    .dataframe thead th {\n",
       "        text-align: right;\n",
       "    }\n",
       "</style>\n",
       "<table border=\"1\" class=\"dataframe\">\n",
       "  <thead>\n",
       "    <tr style=\"text-align: right;\">\n",
       "      <th></th>\n",
       "      <th>IDADEMAE</th>\n",
       "      <th>munResNome</th>\n",
       "    </tr>\n",
       "  </thead>\n",
       "  <tbody>\n",
       "    <tr>\n",
       "      <th>0</th>\n",
       "      <td>19</td>\n",
       "      <td>Alta Floresta D'Oeste</td>\n",
       "    </tr>\n",
       "    <tr>\n",
       "      <th>1</th>\n",
       "      <td>29</td>\n",
       "      <td>Alta Floresta D'Oeste</td>\n",
       "    </tr>\n",
       "    <tr>\n",
       "      <th>2</th>\n",
       "      <td>37</td>\n",
       "      <td>Alta Floresta D'Oeste</td>\n",
       "    </tr>\n",
       "    <tr>\n",
       "      <th>3</th>\n",
       "      <td>30</td>\n",
       "      <td>Alto Alegre dos Parecis</td>\n",
       "    </tr>\n",
       "    <tr>\n",
       "      <th>4</th>\n",
       "      <td>30</td>\n",
       "      <td>Alta Floresta D'Oeste</td>\n",
       "    </tr>\n",
       "  </tbody>\n",
       "</table>\n",
       "</div>"
      ],
      "text/plain": [
       "   IDADEMAE               munResNome\n",
       "0        19    Alta Floresta D'Oeste\n",
       "1        29    Alta Floresta D'Oeste\n",
       "2        37    Alta Floresta D'Oeste\n",
       "3        30  Alto Alegre dos Parecis\n",
       "4        30    Alta Floresta D'Oeste"
      ]
     },
     "execution_count": 47,
     "metadata": {},
     "output_type": "execute_result"
    }
   ],
   "source": [
    "idade_mae_municipio = sinasc_raw[['IDADEMAE', 'munResNome']]\n",
    "idade_mae_municipio.head()"
   ]
  },
  {
   "cell_type": "code",
   "execution_count": 48,
   "metadata": {},
   "outputs": [],
   "source": [
    "#idade_mae_municipio.groupby('munResNome').mean()"
   ]
  },
  {
   "cell_type": "markdown",
   "metadata": {},
   "source": [
    "### 2. Peso médio dos bebes por sexo que nasceram no dia do seu aniversário por faixas de escolaridade mae\n",
    "Ex: Você, aluna(o), nasceu no dia 10/01, então você precisa filtrar o conjunto de dados nessa data e calcular o peso médio dos bebês de cada sexo por faixa de escolaridade da mãe."
   ]
  },
  {
   "cell_type": "code",
   "execution_count": 49,
   "metadata": {},
   "outputs": [
    {
     "data": {
      "text/html": [
       "<div>\n",
       "<style scoped>\n",
       "    .dataframe tbody tr th:only-of-type {\n",
       "        vertical-align: middle;\n",
       "    }\n",
       "\n",
       "    .dataframe tbody tr th {\n",
       "        vertical-align: top;\n",
       "    }\n",
       "\n",
       "    .dataframe thead th {\n",
       "        text-align: right;\n",
       "    }\n",
       "</style>\n",
       "<table border=\"1\" class=\"dataframe\">\n",
       "  <thead>\n",
       "    <tr style=\"text-align: right;\">\n",
       "      <th></th>\n",
       "      <th>DTNASC</th>\n",
       "      <th>PESO</th>\n",
       "      <th>SEXO</th>\n",
       "      <th>ESCMAE</th>\n",
       "    </tr>\n",
       "  </thead>\n",
       "  <tbody>\n",
       "    <tr>\n",
       "      <th>1337</th>\n",
       "      <td>2019-06-23</td>\n",
       "      <td>3525</td>\n",
       "      <td>Feminino</td>\n",
       "      <td>8 a 11 anos</td>\n",
       "    </tr>\n",
       "    <tr>\n",
       "      <th>1338</th>\n",
       "      <td>2019-06-23</td>\n",
       "      <td>3325</td>\n",
       "      <td>Masculino</td>\n",
       "      <td>8 a 11 anos</td>\n",
       "    </tr>\n",
       "    <tr>\n",
       "      <th>1339</th>\n",
       "      <td>2019-06-23</td>\n",
       "      <td>2815</td>\n",
       "      <td>Masculino</td>\n",
       "      <td>4 a 7 anos</td>\n",
       "    </tr>\n",
       "    <tr>\n",
       "      <th>1340</th>\n",
       "      <td>2019-06-23</td>\n",
       "      <td>2975</td>\n",
       "      <td>Feminino</td>\n",
       "      <td>4 a 7 anos</td>\n",
       "    </tr>\n",
       "    <tr>\n",
       "      <th>1356</th>\n",
       "      <td>2019-06-23</td>\n",
       "      <td>2620</td>\n",
       "      <td>Masculino</td>\n",
       "      <td>12 anos ou mais</td>\n",
       "    </tr>\n",
       "  </tbody>\n",
       "</table>\n",
       "</div>"
      ],
      "text/plain": [
       "          DTNASC  PESO       SEXO           ESCMAE\n",
       "1337  2019-06-23  3525   Feminino      8 a 11 anos\n",
       "1338  2019-06-23  3325  Masculino      8 a 11 anos\n",
       "1339  2019-06-23  2815  Masculino       4 a 7 anos\n",
       "1340  2019-06-23  2975   Feminino       4 a 7 anos\n",
       "1356  2019-06-23  2620  Masculino  12 anos ou mais"
      ]
     },
     "execution_count": 49,
     "metadata": {},
     "output_type": "execute_result"
    }
   ],
   "source": [
    "tarefa_2_df = sinasc_raw[['DTNASC', 'PESO', 'SEXO', 'ESCMAE']]\n",
    "tarefa_2_df = tarefa_2_df[tarefa_2_df['DTNASC'] == '2019-06-23']\n",
    "tarefa_2_df.head()"
   ]
  },
  {
   "cell_type": "code",
   "execution_count": 50,
   "metadata": {},
   "outputs": [
    {
     "data": {
      "text/html": [
       "<div>\n",
       "<style scoped>\n",
       "    .dataframe tbody tr th:only-of-type {\n",
       "        vertical-align: middle;\n",
       "    }\n",
       "\n",
       "    .dataframe tbody tr th {\n",
       "        vertical-align: top;\n",
       "    }\n",
       "\n",
       "    .dataframe thead th {\n",
       "        text-align: right;\n",
       "    }\n",
       "</style>\n",
       "<table border=\"1\" class=\"dataframe\">\n",
       "  <thead>\n",
       "    <tr style=\"text-align: right;\">\n",
       "      <th></th>\n",
       "      <th>PESO</th>\n",
       "      <th>SEXO</th>\n",
       "      <th>ESCMAE</th>\n",
       "    </tr>\n",
       "  </thead>\n",
       "  <tbody>\n",
       "    <tr>\n",
       "      <th>1337</th>\n",
       "      <td>3525</td>\n",
       "      <td>Feminino</td>\n",
       "      <td>8 a 11 anos</td>\n",
       "    </tr>\n",
       "    <tr>\n",
       "      <th>1338</th>\n",
       "      <td>3325</td>\n",
       "      <td>Masculino</td>\n",
       "      <td>8 a 11 anos</td>\n",
       "    </tr>\n",
       "    <tr>\n",
       "      <th>1339</th>\n",
       "      <td>2815</td>\n",
       "      <td>Masculino</td>\n",
       "      <td>4 a 7 anos</td>\n",
       "    </tr>\n",
       "    <tr>\n",
       "      <th>1340</th>\n",
       "      <td>2975</td>\n",
       "      <td>Feminino</td>\n",
       "      <td>4 a 7 anos</td>\n",
       "    </tr>\n",
       "    <tr>\n",
       "      <th>1356</th>\n",
       "      <td>2620</td>\n",
       "      <td>Masculino</td>\n",
       "      <td>12 anos ou mais</td>\n",
       "    </tr>\n",
       "  </tbody>\n",
       "</table>\n",
       "</div>"
      ],
      "text/plain": [
       "      PESO       SEXO           ESCMAE\n",
       "1337  3525   Feminino      8 a 11 anos\n",
       "1338  3325  Masculino      8 a 11 anos\n",
       "1339  2815  Masculino       4 a 7 anos\n",
       "1340  2975   Feminino       4 a 7 anos\n",
       "1356  2620  Masculino  12 anos ou mais"
      ]
     },
     "execution_count": 50,
     "metadata": {},
     "output_type": "execute_result"
    }
   ],
   "source": [
    "tarefa_2_df = tarefa_2_df.drop('DTNASC', axis=1)\n",
    "tarefa_2_df.head()"
   ]
  },
  {
   "cell_type": "code",
   "execution_count": 51,
   "metadata": {},
   "outputs": [
    {
     "data": {
      "text/html": [
       "<div>\n",
       "<style scoped>\n",
       "    .dataframe tbody tr th:only-of-type {\n",
       "        vertical-align: middle;\n",
       "    }\n",
       "\n",
       "    .dataframe tbody tr th {\n",
       "        vertical-align: top;\n",
       "    }\n",
       "\n",
       "    .dataframe thead th {\n",
       "        text-align: right;\n",
       "    }\n",
       "</style>\n",
       "<table border=\"1\" class=\"dataframe\">\n",
       "  <thead>\n",
       "    <tr style=\"text-align: right;\">\n",
       "      <th></th>\n",
       "      <th></th>\n",
       "      <th>PESO</th>\n",
       "    </tr>\n",
       "    <tr>\n",
       "      <th>ESCMAE</th>\n",
       "      <th>SEXO</th>\n",
       "      <th></th>\n",
       "    </tr>\n",
       "  </thead>\n",
       "  <tbody>\n",
       "    <tr>\n",
       "      <th rowspan=\"2\" valign=\"top\">12 anos ou mais</th>\n",
       "      <th>Feminino</th>\n",
       "      <td>3172.500000</td>\n",
       "    </tr>\n",
       "    <tr>\n",
       "      <th>Masculino</th>\n",
       "      <td>3218.818182</td>\n",
       "    </tr>\n",
       "    <tr>\n",
       "      <th rowspan=\"2\" valign=\"top\">4 a 7 anos</th>\n",
       "      <th>Feminino</th>\n",
       "      <td>2763.333333</td>\n",
       "    </tr>\n",
       "    <tr>\n",
       "      <th>Masculino</th>\n",
       "      <td>3295.000000</td>\n",
       "    </tr>\n",
       "    <tr>\n",
       "      <th rowspan=\"2\" valign=\"top\">8 a 11 anos</th>\n",
       "      <th>Feminino</th>\n",
       "      <td>2949.454545</td>\n",
       "    </tr>\n",
       "    <tr>\n",
       "      <th>Masculino</th>\n",
       "      <td>3371.818182</td>\n",
       "    </tr>\n",
       "  </tbody>\n",
       "</table>\n",
       "</div>"
      ],
      "text/plain": [
       "                                  PESO\n",
       "ESCMAE          SEXO                  \n",
       "12 anos ou mais Feminino   3172.500000\n",
       "                Masculino  3218.818182\n",
       "4 a 7 anos      Feminino   2763.333333\n",
       "                Masculino  3295.000000\n",
       "8 a 11 anos     Feminino   2949.454545\n",
       "                Masculino  3371.818182"
      ]
     },
     "execution_count": 51,
     "metadata": {},
     "output_type": "execute_result"
    }
   ],
   "source": [
    "tarefa_2_df.groupby(['ESCMAE', 'SEXO']).mean()"
   ]
  },
  {
   "cell_type": "markdown",
   "metadata": {},
   "source": [
    "### 3. Qual o municipio que nasceu menos bebe em 2019?\n",
    "    - qual a idade media, maxima, minima das maes nesse municipio?\n",
    "    - qual a idade media, maxima, minima dos pais nesse municipio?"
   ]
  },
  {
   "cell_type": "code",
   "execution_count": 52,
   "metadata": {},
   "outputs": [
    {
     "data": {
      "text/html": [
       "<div>\n",
       "<style scoped>\n",
       "    .dataframe tbody tr th:only-of-type {\n",
       "        vertical-align: middle;\n",
       "    }\n",
       "\n",
       "    .dataframe tbody tr th {\n",
       "        vertical-align: top;\n",
       "    }\n",
       "\n",
       "    .dataframe thead th {\n",
       "        text-align: right;\n",
       "    }\n",
       "</style>\n",
       "<table border=\"1\" class=\"dataframe\">\n",
       "  <thead>\n",
       "    <tr style=\"text-align: right;\">\n",
       "      <th></th>\n",
       "      <th>IDADEMAE</th>\n",
       "      <th>IDADEPAI</th>\n",
       "      <th>munResNome</th>\n",
       "    </tr>\n",
       "  </thead>\n",
       "  <tbody>\n",
       "    <tr>\n",
       "      <th>0</th>\n",
       "      <td>19</td>\n",
       "      <td>26.0</td>\n",
       "      <td>Alta Floresta D'Oeste</td>\n",
       "    </tr>\n",
       "    <tr>\n",
       "      <th>1</th>\n",
       "      <td>29</td>\n",
       "      <td>24.0</td>\n",
       "      <td>Alta Floresta D'Oeste</td>\n",
       "    </tr>\n",
       "  </tbody>\n",
       "</table>\n",
       "</div>"
      ],
      "text/plain": [
       "   IDADEMAE  IDADEPAI             munResNome\n",
       "0        19      26.0  Alta Floresta D'Oeste\n",
       "1        29      24.0  Alta Floresta D'Oeste"
      ]
     },
     "execution_count": 52,
     "metadata": {},
     "output_type": "execute_result"
    }
   ],
   "source": [
    "tarefa_3_df = sinasc_raw[['IDADEMAE', 'IDADEPAI', 'munResNome']]\n",
    "tarefa_3_df.head(2)"
   ]
  },
  {
   "cell_type": "code",
   "execution_count": 53,
   "metadata": {},
   "outputs": [
    {
     "data": {
      "text/plain": [
       "munResNome\n",
       "Município ignorado - RO     1\n",
       "Castanheiras               32\n",
       "Pimenteiras do Oeste       40\n",
       "Primavera de Rondônia      43\n",
       "Parecis                    44\n",
       "Name: count, dtype: int64"
      ]
     },
     "execution_count": 53,
     "metadata": {},
     "output_type": "execute_result"
    }
   ],
   "source": [
    "tarefa_3_df['munResNome'].value_counts().sort_values(ascending=True).head(5)"
   ]
  },
  {
   "cell_type": "code",
   "execution_count": 54,
   "metadata": {},
   "outputs": [],
   "source": [
    "tarefa_3_df = tarefa_3_df[tarefa_3_df['munResNome'] == 'Município ignorado - RO']"
   ]
  },
  {
   "cell_type": "code",
   "execution_count": 55,
   "metadata": {},
   "outputs": [
    {
     "data": {
      "text/html": [
       "<div>\n",
       "<style scoped>\n",
       "    .dataframe tbody tr th:only-of-type {\n",
       "        vertical-align: middle;\n",
       "    }\n",
       "\n",
       "    .dataframe tbody tr th {\n",
       "        vertical-align: top;\n",
       "    }\n",
       "\n",
       "    .dataframe thead th {\n",
       "        text-align: right;\n",
       "    }\n",
       "</style>\n",
       "<table border=\"1\" class=\"dataframe\">\n",
       "  <thead>\n",
       "    <tr style=\"text-align: right;\">\n",
       "      <th></th>\n",
       "      <th>mean</th>\n",
       "      <th>min</th>\n",
       "      <th>max</th>\n",
       "    </tr>\n",
       "  </thead>\n",
       "  <tbody>\n",
       "    <tr>\n",
       "      <th>IDADEMAE</th>\n",
       "      <td>24.0</td>\n",
       "      <td>24.0</td>\n",
       "      <td>24.0</td>\n",
       "    </tr>\n",
       "    <tr>\n",
       "      <th>IDADEPAI</th>\n",
       "      <td>22.0</td>\n",
       "      <td>22.0</td>\n",
       "      <td>22.0</td>\n",
       "    </tr>\n",
       "  </tbody>\n",
       "</table>\n",
       "</div>"
      ],
      "text/plain": [
       "          mean   min   max\n",
       "IDADEMAE  24.0  24.0  24.0\n",
       "IDADEPAI  22.0  22.0  22.0"
      ]
     },
     "execution_count": 55,
     "metadata": {},
     "output_type": "execute_result"
    }
   ],
   "source": [
    "tarefa_3_df.agg({'IDADEMAE':['mean', 'min','max'], 'IDADEPAI':['mean', 'min','max']}).transpose()"
   ]
  },
  {
   "cell_type": "markdown",
   "metadata": {},
   "source": [
    "### 4. Qual o municipio que nasceu mais bebe no mês de março?\n",
    "    - qual a quantidade de filhos vivos media, maxima, minima nesse municipio?\n",
    "    - qual a idade media, maxima, minima dos pais nesse municipio?\n",
    "\n"
   ]
  },
  {
   "cell_type": "code",
   "execution_count": 56,
   "metadata": {},
   "outputs": [
    {
     "data": {
      "text/html": [
       "<div>\n",
       "<style scoped>\n",
       "    .dataframe tbody tr th:only-of-type {\n",
       "        vertical-align: middle;\n",
       "    }\n",
       "\n",
       "    .dataframe tbody tr th {\n",
       "        vertical-align: top;\n",
       "    }\n",
       "\n",
       "    .dataframe thead th {\n",
       "        text-align: right;\n",
       "    }\n",
       "</style>\n",
       "<table border=\"1\" class=\"dataframe\">\n",
       "  <thead>\n",
       "    <tr style=\"text-align: right;\">\n",
       "      <th></th>\n",
       "      <th>IDADEMAE</th>\n",
       "      <th>IDADEPAI</th>\n",
       "      <th>munResNome</th>\n",
       "      <th>DTNASC</th>\n",
       "      <th>QTDFILVIVO</th>\n",
       "    </tr>\n",
       "  </thead>\n",
       "  <tbody>\n",
       "    <tr>\n",
       "      <th>0</th>\n",
       "      <td>19</td>\n",
       "      <td>26.0</td>\n",
       "      <td>Alta Floresta D'Oeste</td>\n",
       "      <td>2019-02-19</td>\n",
       "      <td>0.0</td>\n",
       "    </tr>\n",
       "    <tr>\n",
       "      <th>1</th>\n",
       "      <td>29</td>\n",
       "      <td>24.0</td>\n",
       "      <td>Alta Floresta D'Oeste</td>\n",
       "      <td>2019-02-21</td>\n",
       "      <td>1.0</td>\n",
       "    </tr>\n",
       "    <tr>\n",
       "      <th>2</th>\n",
       "      <td>37</td>\n",
       "      <td>32.0</td>\n",
       "      <td>Alta Floresta D'Oeste</td>\n",
       "      <td>2019-02-25</td>\n",
       "      <td>2.0</td>\n",
       "    </tr>\n",
       "    <tr>\n",
       "      <th>3</th>\n",
       "      <td>30</td>\n",
       "      <td>24.0</td>\n",
       "      <td>Alto Alegre dos Parecis</td>\n",
       "      <td>2019-03-20</td>\n",
       "      <td>0.0</td>\n",
       "    </tr>\n",
       "    <tr>\n",
       "      <th>4</th>\n",
       "      <td>30</td>\n",
       "      <td>27.0</td>\n",
       "      <td>Alta Floresta D'Oeste</td>\n",
       "      <td>2019-03-23</td>\n",
       "      <td>1.0</td>\n",
       "    </tr>\n",
       "  </tbody>\n",
       "</table>\n",
       "</div>"
      ],
      "text/plain": [
       "   IDADEMAE  IDADEPAI               munResNome      DTNASC  QTDFILVIVO\n",
       "0        19      26.0    Alta Floresta D'Oeste  2019-02-19         0.0\n",
       "1        29      24.0    Alta Floresta D'Oeste  2019-02-21         1.0\n",
       "2        37      32.0    Alta Floresta D'Oeste  2019-02-25         2.0\n",
       "3        30      24.0  Alto Alegre dos Parecis  2019-03-20         0.0\n",
       "4        30      27.0    Alta Floresta D'Oeste  2019-03-23         1.0"
      ]
     },
     "execution_count": 56,
     "metadata": {},
     "output_type": "execute_result"
    }
   ],
   "source": [
    "tarefa_4_df = sinasc_raw[['IDADEMAE', 'IDADEPAI', 'munResNome', 'DTNASC', 'QTDFILVIVO']]\n",
    "tarefa_4_df.head(5)"
   ]
  },
  {
   "cell_type": "code",
   "execution_count": 57,
   "metadata": {},
   "outputs": [
    {
     "data": {
      "text/plain": [
       "'Março'"
      ]
     },
     "execution_count": 57,
     "metadata": {},
     "output_type": "execute_result"
    }
   ],
   "source": [
    "def marco(valor):\n",
    "    mes = list(valor)\n",
    "    valor = mes[5] + mes[6]\n",
    "    valor = str(valor)\n",
    "\n",
    "    if valor == '03':\n",
    "        mes = 'Março'\n",
    "        return mes\n",
    "    else:\n",
    "        return ''\n",
    "\n",
    "marco('2019-03-19')"
   ]
  },
  {
   "cell_type": "code",
   "execution_count": 58,
   "metadata": {},
   "outputs": [
    {
     "name": "stderr",
     "output_type": "stream",
     "text": [
      "C:\\Users\\Soldado\\AppData\\Local\\Temp\\ipykernel_18240\\836858443.py:1: SettingWithCopyWarning: \n",
      "A value is trying to be set on a copy of a slice from a DataFrame.\n",
      "Try using .loc[row_indexer,col_indexer] = value instead\n",
      "\n",
      "See the caveats in the documentation: https://pandas.pydata.org/pandas-docs/stable/user_guide/indexing.html#returning-a-view-versus-a-copy\n",
      "  tarefa_4_df['Março'] = tarefa_4_df['DTNASC'].apply(marco)\n"
     ]
    }
   ],
   "source": [
    "tarefa_4_df['Março'] = tarefa_4_df['DTNASC'].apply(marco)"
   ]
  },
  {
   "cell_type": "code",
   "execution_count": 59,
   "metadata": {},
   "outputs": [],
   "source": [
    "tarefa_4_df = tarefa_4_df[tarefa_4_df['Março'] == 'Março']"
   ]
  },
  {
   "cell_type": "code",
   "execution_count": 60,
   "metadata": {},
   "outputs": [
    {
     "data": {
      "text/plain": [
       "munResNome\n",
       "Porto Velho    744\n",
       "Name: count, dtype: int64"
      ]
     },
     "execution_count": 60,
     "metadata": {},
     "output_type": "execute_result"
    }
   ],
   "source": [
    "tarefa_4_df['munResNome'].value_counts().head(1)"
   ]
  },
  {
   "cell_type": "code",
   "execution_count": 61,
   "metadata": {},
   "outputs": [
    {
     "data": {
      "text/html": [
       "<div>\n",
       "<style scoped>\n",
       "    .dataframe tbody tr th:only-of-type {\n",
       "        vertical-align: middle;\n",
       "    }\n",
       "\n",
       "    .dataframe tbody tr th {\n",
       "        vertical-align: top;\n",
       "    }\n",
       "\n",
       "    .dataframe thead th {\n",
       "        text-align: right;\n",
       "    }\n",
       "</style>\n",
       "<table border=\"1\" class=\"dataframe\">\n",
       "  <thead>\n",
       "    <tr style=\"text-align: right;\">\n",
       "      <th></th>\n",
       "      <th>IDADEMAE</th>\n",
       "      <th>IDADEPAI</th>\n",
       "      <th>munResNome</th>\n",
       "      <th>DTNASC</th>\n",
       "      <th>QTDFILVIVO</th>\n",
       "      <th>Março</th>\n",
       "    </tr>\n",
       "  </thead>\n",
       "  <tbody>\n",
       "    <tr>\n",
       "      <th>612</th>\n",
       "      <td>19</td>\n",
       "      <td>NaN</td>\n",
       "      <td>Porto Velho</td>\n",
       "      <td>2019-03-09</td>\n",
       "      <td>0.0</td>\n",
       "      <td>Março</td>\n",
       "    </tr>\n",
       "    <tr>\n",
       "      <th>700</th>\n",
       "      <td>19</td>\n",
       "      <td>NaN</td>\n",
       "      <td>Porto Velho</td>\n",
       "      <td>2019-03-28</td>\n",
       "      <td>1.0</td>\n",
       "      <td>Março</td>\n",
       "    </tr>\n",
       "    <tr>\n",
       "      <th>3232</th>\n",
       "      <td>34</td>\n",
       "      <td>NaN</td>\n",
       "      <td>Porto Velho</td>\n",
       "      <td>2019-03-11</td>\n",
       "      <td>0.0</td>\n",
       "      <td>Março</td>\n",
       "    </tr>\n",
       "    <tr>\n",
       "      <th>3238</th>\n",
       "      <td>24</td>\n",
       "      <td>NaN</td>\n",
       "      <td>Porto Velho</td>\n",
       "      <td>2019-03-13</td>\n",
       "      <td>1.0</td>\n",
       "      <td>Março</td>\n",
       "    </tr>\n",
       "    <tr>\n",
       "      <th>6818</th>\n",
       "      <td>38</td>\n",
       "      <td>41.0</td>\n",
       "      <td>Porto Velho</td>\n",
       "      <td>2019-03-01</td>\n",
       "      <td>2.0</td>\n",
       "      <td>Março</td>\n",
       "    </tr>\n",
       "  </tbody>\n",
       "</table>\n",
       "</div>"
      ],
      "text/plain": [
       "      IDADEMAE  IDADEPAI   munResNome      DTNASC  QTDFILVIVO  Março\n",
       "612         19       NaN  Porto Velho  2019-03-09         0.0  Março\n",
       "700         19       NaN  Porto Velho  2019-03-28         1.0  Março\n",
       "3232        34       NaN  Porto Velho  2019-03-11         0.0  Março\n",
       "3238        24       NaN  Porto Velho  2019-03-13         1.0  Março\n",
       "6818        38      41.0  Porto Velho  2019-03-01         2.0  Março"
      ]
     },
     "execution_count": 61,
     "metadata": {},
     "output_type": "execute_result"
    }
   ],
   "source": [
    "tarefa_4_df = tarefa_4_df[tarefa_4_df['munResNome'] == 'Porto Velho']\n",
    "tarefa_4_df.head()"
   ]
  },
  {
   "cell_type": "code",
   "execution_count": 62,
   "metadata": {},
   "outputs": [
    {
     "data": {
      "text/html": [
       "<div>\n",
       "<style scoped>\n",
       "    .dataframe tbody tr th:only-of-type {\n",
       "        vertical-align: middle;\n",
       "    }\n",
       "\n",
       "    .dataframe tbody tr th {\n",
       "        vertical-align: top;\n",
       "    }\n",
       "\n",
       "    .dataframe thead th {\n",
       "        text-align: right;\n",
       "    }\n",
       "</style>\n",
       "<table border=\"1\" class=\"dataframe\">\n",
       "  <thead>\n",
       "    <tr style=\"text-align: right;\">\n",
       "      <th></th>\n",
       "      <th>QTDFILVIVO</th>\n",
       "    </tr>\n",
       "  </thead>\n",
       "  <tbody>\n",
       "    <tr>\n",
       "      <th>mean</th>\n",
       "      <td>1.295056</td>\n",
       "    </tr>\n",
       "    <tr>\n",
       "      <th>min</th>\n",
       "      <td>0.000000</td>\n",
       "    </tr>\n",
       "    <tr>\n",
       "      <th>max</th>\n",
       "      <td>9.000000</td>\n",
       "    </tr>\n",
       "  </tbody>\n",
       "</table>\n",
       "</div>"
      ],
      "text/plain": [
       "      QTDFILVIVO\n",
       "mean    1.295056\n",
       "min     0.000000\n",
       "max     9.000000"
      ]
     },
     "execution_count": 62,
     "metadata": {},
     "output_type": "execute_result"
    }
   ],
   "source": [
    "tarefa_4_df.agg({'QTDFILVIVO':['mean', 'min','max']})"
   ]
  },
  {
   "cell_type": "code",
   "execution_count": 63,
   "metadata": {},
   "outputs": [
    {
     "data": {
      "text/html": [
       "<div>\n",
       "<style scoped>\n",
       "    .dataframe tbody tr th:only-of-type {\n",
       "        vertical-align: middle;\n",
       "    }\n",
       "\n",
       "    .dataframe tbody tr th {\n",
       "        vertical-align: top;\n",
       "    }\n",
       "\n",
       "    .dataframe thead th {\n",
       "        text-align: right;\n",
       "    }\n",
       "</style>\n",
       "<table border=\"1\" class=\"dataframe\">\n",
       "  <thead>\n",
       "    <tr style=\"text-align: right;\">\n",
       "      <th></th>\n",
       "      <th>mean</th>\n",
       "      <th>min</th>\n",
       "      <th>max</th>\n",
       "    </tr>\n",
       "  </thead>\n",
       "  <tbody>\n",
       "    <tr>\n",
       "      <th>IDADEMAE</th>\n",
       "      <td>26.596774</td>\n",
       "      <td>14.0</td>\n",
       "      <td>44.0</td>\n",
       "    </tr>\n",
       "    <tr>\n",
       "      <th>IDADEPAI</th>\n",
       "      <td>34.629032</td>\n",
       "      <td>19.0</td>\n",
       "      <td>62.0</td>\n",
       "    </tr>\n",
       "  </tbody>\n",
       "</table>\n",
       "</div>"
      ],
      "text/plain": [
       "               mean   min   max\n",
       "IDADEMAE  26.596774  14.0  44.0\n",
       "IDADEPAI  34.629032  19.0  62.0"
      ]
     },
     "execution_count": 63,
     "metadata": {},
     "output_type": "execute_result"
    }
   ],
   "source": [
    "tarefa_4_df.agg({'IDADEMAE':['mean', 'min','max'], 'IDADEPAI':['mean', 'min','max']}).transpose()"
   ]
  },
  {
   "cell_type": "markdown",
   "metadata": {},
   "source": [
    "---"
   ]
  },
  {
   "cell_type": "markdown",
   "metadata": {},
   "source": [
    "### Analise as respostas encontradas, tire algum insight delas, conte pra gente algo encontrado nos dados. Algo que você julgue relevante e novo pra você."
   ]
  },
  {
   "cell_type": "markdown",
   "metadata": {},
   "source": [
    "#  Meus Insights.......\n",
    "Na minha opinião, a análise exploratória é uma das fases mais importantes de qualquer projeto que lide com dados. Aqui o objetivo é entender o contexto em que trabalharemos e como são os dados que temos que explorar, para termos toda uma documentação que precisaremos para criar os próximos algoritmos, mesmo os de Machine Learning. Acredito que mesmo nesta fase já podemos encontrar alguns Insights.\n",
    "\n",
    "<img src=\"./Data/Image/Capa.png\" alt=\"capa\">\n",
    "\n",
    "---\n",
    "\n",
    "# **SINASC** • Gravidez na adolescencia\n",
    "**Enzo Schitini** Projeto\n",
    "#### [Enzo Schitini](https://www.linkedin.com/in/enzoschitini/)\n",
    "\n",
    "---"
   ]
  },
  {
   "cell_type": "code",
   "execution_count": 87,
   "metadata": {},
   "outputs": [],
   "source": [
    "Sinasc = pd.read_csv('Sinasc.csv')\n",
    "Sinasc = Sinasc.drop('Unnamed: 0', axis=1)"
   ]
  },
  {
   "cell_type": "markdown",
   "metadata": {},
   "source": [
    "# Mulheres que tiveram filhos antes dos dezoito anos"
   ]
  },
  {
   "cell_type": "code",
   "execution_count": 90,
   "metadata": {},
   "outputs": [
    {
     "data": {
      "text/html": [
       "<div>\n",
       "<style scoped>\n",
       "    .dataframe tbody tr th:only-of-type {\n",
       "        vertical-align: middle;\n",
       "    }\n",
       "\n",
       "    .dataframe tbody tr th {\n",
       "        vertical-align: top;\n",
       "    }\n",
       "\n",
       "    .dataframe thead th {\n",
       "        text-align: right;\n",
       "    }\n",
       "</style>\n",
       "<table border=\"1\" class=\"dataframe\">\n",
       "  <thead>\n",
       "    <tr style=\"text-align: right;\">\n",
       "      <th></th>\n",
       "      <th>IDADEMAE</th>\n",
       "      <th>ESCMAE</th>\n",
       "      <th>QTDFILVIVO</th>\n",
       "      <th>QTDFILMORT</th>\n",
       "      <th>GESTACAO</th>\n",
       "      <th>GRAVIDEZ</th>\n",
       "      <th>PARTO</th>\n",
       "      <th>CONSULTAS</th>\n",
       "      <th>DTNASC</th>\n",
       "      <th>HORANASC</th>\n",
       "      <th>...</th>\n",
       "      <th>RACACORMAE</th>\n",
       "      <th>IDADEPAI</th>\n",
       "      <th>QTDGESTANT</th>\n",
       "      <th>QTDPARTNOR</th>\n",
       "      <th>QTDPARTCES</th>\n",
       "      <th>munResStatus</th>\n",
       "      <th>munResTipo</th>\n",
       "      <th>munResNome</th>\n",
       "      <th>munResUf</th>\n",
       "      <th>Status</th>\n",
       "    </tr>\n",
       "  </thead>\n",
       "  <tbody>\n",
       "    <tr>\n",
       "      <th>0</th>\n",
       "      <td>18</td>\n",
       "      <td>1 a 3 anos</td>\n",
       "      <td>0.0</td>\n",
       "      <td>0.0</td>\n",
       "      <td>37 a 41 semanas</td>\n",
       "      <td>Única</td>\n",
       "      <td>Vaginal</td>\n",
       "      <td>3</td>\n",
       "      <td>2019-03-28</td>\n",
       "      <td>1515.0</td>\n",
       "      <td>...</td>\n",
       "      <td>4.0</td>\n",
       "      <td>20.0</td>\n",
       "      <td>0.0</td>\n",
       "      <td>0.0</td>\n",
       "      <td>0.0</td>\n",
       "      <td>ATIVO</td>\n",
       "      <td>MUNIC</td>\n",
       "      <td>Alta Floresta D'Oeste</td>\n",
       "      <td>Rondônia</td>\n",
       "      <td>De 17 à 18</td>\n",
       "    </tr>\n",
       "    <tr>\n",
       "      <th>1</th>\n",
       "      <td>18</td>\n",
       "      <td>4 a 7 anos</td>\n",
       "      <td>0.0</td>\n",
       "      <td>2.0</td>\n",
       "      <td>37 a 41 semanas</td>\n",
       "      <td>Única</td>\n",
       "      <td>Vaginal</td>\n",
       "      <td>4</td>\n",
       "      <td>2019-04-10</td>\n",
       "      <td>1100.0</td>\n",
       "      <td>...</td>\n",
       "      <td>1.0</td>\n",
       "      <td>22.0</td>\n",
       "      <td>2.0</td>\n",
       "      <td>0.0</td>\n",
       "      <td>0.0</td>\n",
       "      <td>ATIVO</td>\n",
       "      <td>MUNIC</td>\n",
       "      <td>Alta Floresta D'Oeste</td>\n",
       "      <td>Rondônia</td>\n",
       "      <td>De 17 à 18</td>\n",
       "    </tr>\n",
       "    <tr>\n",
       "      <th>2</th>\n",
       "      <td>18</td>\n",
       "      <td>4 a 7 anos</td>\n",
       "      <td>1.0</td>\n",
       "      <td>0.0</td>\n",
       "      <td>37 a 41 semanas</td>\n",
       "      <td>Única</td>\n",
       "      <td>Cesáreo</td>\n",
       "      <td>2</td>\n",
       "      <td>2019-04-23</td>\n",
       "      <td>1512.0</td>\n",
       "      <td>...</td>\n",
       "      <td>NaN</td>\n",
       "      <td>23.0</td>\n",
       "      <td>1.0</td>\n",
       "      <td>0.0</td>\n",
       "      <td>1.0</td>\n",
       "      <td>ATIVO</td>\n",
       "      <td>MUNIC</td>\n",
       "      <td>Alta Floresta D'Oeste</td>\n",
       "      <td>Rondônia</td>\n",
       "      <td>De 17 à 18</td>\n",
       "    </tr>\n",
       "    <tr>\n",
       "      <th>3</th>\n",
       "      <td>18</td>\n",
       "      <td>8 a 11 anos</td>\n",
       "      <td>0.0</td>\n",
       "      <td>0.0</td>\n",
       "      <td>37 a 41 semanas</td>\n",
       "      <td>Única</td>\n",
       "      <td>Vaginal</td>\n",
       "      <td>4</td>\n",
       "      <td>2019-04-24</td>\n",
       "      <td>2010.0</td>\n",
       "      <td>...</td>\n",
       "      <td>5.0</td>\n",
       "      <td>20.0</td>\n",
       "      <td>0.0</td>\n",
       "      <td>0.0</td>\n",
       "      <td>0.0</td>\n",
       "      <td>ATIVO</td>\n",
       "      <td>MUNIC</td>\n",
       "      <td>Alta Floresta D'Oeste</td>\n",
       "      <td>Rondônia</td>\n",
       "      <td>De 17 à 18</td>\n",
       "    </tr>\n",
       "    <tr>\n",
       "      <th>4</th>\n",
       "      <td>14</td>\n",
       "      <td>4 a 7 anos</td>\n",
       "      <td>0.0</td>\n",
       "      <td>0.0</td>\n",
       "      <td>37 a 41 semanas</td>\n",
       "      <td>Única</td>\n",
       "      <td>Cesáreo</td>\n",
       "      <td>4</td>\n",
       "      <td>2019-05-28</td>\n",
       "      <td>1545.0</td>\n",
       "      <td>...</td>\n",
       "      <td>4.0</td>\n",
       "      <td>35.0</td>\n",
       "      <td>0.0</td>\n",
       "      <td>0.0</td>\n",
       "      <td>0.0</td>\n",
       "      <td>ATIVO</td>\n",
       "      <td>MUNIC</td>\n",
       "      <td>Alta Floresta D'Oeste</td>\n",
       "      <td>Rondônia</td>\n",
       "      <td>De 13 à 14</td>\n",
       "    </tr>\n",
       "  </tbody>\n",
       "</table>\n",
       "<p>5 rows × 27 columns</p>\n",
       "</div>"
      ],
      "text/plain": [
       "   IDADEMAE       ESCMAE  QTDFILVIVO  QTDFILMORT         GESTACAO GRAVIDEZ  \\\n",
       "0        18   1 a 3 anos         0.0         0.0  37 a 41 semanas    Única   \n",
       "1        18   4 a 7 anos         0.0         2.0  37 a 41 semanas    Única   \n",
       "2        18   4 a 7 anos         1.0         0.0  37 a 41 semanas    Única   \n",
       "3        18  8 a 11 anos         0.0         0.0  37 a 41 semanas    Única   \n",
       "4        14   4 a 7 anos         0.0         0.0  37 a 41 semanas    Única   \n",
       "\n",
       "     PARTO  CONSULTAS      DTNASC  HORANASC  ... RACACORMAE  IDADEPAI  \\\n",
       "0  Vaginal          3  2019-03-28    1515.0  ...        4.0      20.0   \n",
       "1  Vaginal          4  2019-04-10    1100.0  ...        1.0      22.0   \n",
       "2  Cesáreo          2  2019-04-23    1512.0  ...        NaN      23.0   \n",
       "3  Vaginal          4  2019-04-24    2010.0  ...        5.0      20.0   \n",
       "4  Cesáreo          4  2019-05-28    1545.0  ...        4.0      35.0   \n",
       "\n",
       "   QTDGESTANT QTDPARTNOR  QTDPARTCES munResStatus  munResTipo  \\\n",
       "0         0.0        0.0         0.0        ATIVO       MUNIC   \n",
       "1         2.0        0.0         0.0        ATIVO       MUNIC   \n",
       "2         1.0        0.0         1.0        ATIVO       MUNIC   \n",
       "3         0.0        0.0         0.0        ATIVO       MUNIC   \n",
       "4         0.0        0.0         0.0        ATIVO       MUNIC   \n",
       "\n",
       "              munResNome  munResUf      Status  \n",
       "0  Alta Floresta D'Oeste  Rondônia  De 17 à 18  \n",
       "1  Alta Floresta D'Oeste  Rondônia  De 17 à 18  \n",
       "2  Alta Floresta D'Oeste  Rondônia  De 17 à 18  \n",
       "3  Alta Floresta D'Oeste  Rondônia  De 17 à 18  \n",
       "4  Alta Floresta D'Oeste  Rondônia  De 13 à 14  \n",
       "\n",
       "[5 rows x 27 columns]"
      ]
     },
     "execution_count": 90,
     "metadata": {},
     "output_type": "execute_result"
    }
   ],
   "source": [
    "Sinasc.head(5)"
   ]
  },
  {
   "cell_type": "code",
   "execution_count": 89,
   "metadata": {},
   "outputs": [
    {
     "data": {
      "text/plain": [
       "(3206, 27)"
      ]
     },
     "execution_count": 89,
     "metadata": {},
     "output_type": "execute_result"
    }
   ],
   "source": [
    "total2, _ = Sinasc.shape\n",
    "Sinasc.shape "
   ]
  },
  {
   "cell_type": "code",
   "execution_count": 91,
   "metadata": {},
   "outputs": [
    {
     "data": {
      "text/plain": [
       "Status\n",
       "De 17 à 18    0.632564\n",
       "De 15 à 16    0.308172\n",
       "De 13 à 14    0.059264\n",
       "Name: proportion, dtype: float64"
      ]
     },
     "execution_count": 91,
     "metadata": {},
     "output_type": "execute_result"
    }
   ],
   "source": [
    "Sinasc.Status.value_counts(normalize=True)"
   ]
  },
  {
   "cell_type": "markdown",
   "metadata": {},
   "source": [
    "# Diferença de idade entre mãe e pai"
   ]
  }
 ],
 "metadata": {
  "kernelspec": {
   "display_name": "Python 3",
   "language": "python",
   "name": "python3"
  },
  "language_info": {
   "codemirror_mode": {
    "name": "ipython",
    "version": 3
   },
   "file_extension": ".py",
   "mimetype": "text/x-python",
   "name": "python",
   "nbconvert_exporter": "python",
   "pygments_lexer": "ipython3",
   "version": "3.11.5"
  },
  "varInspector": {
   "cols": {
    "lenName": 16,
    "lenType": 16,
    "lenVar": 40
   },
   "kernels_config": {
    "python": {
     "delete_cmd_postfix": "",
     "delete_cmd_prefix": "del ",
     "library": "var_list.py",
     "varRefreshCmd": "print(var_dic_list())"
    },
    "r": {
     "delete_cmd_postfix": ") ",
     "delete_cmd_prefix": "rm(",
     "library": "var_list.r",
     "varRefreshCmd": "cat(var_dic_list()) "
    }
   },
   "types_to_exclude": [
    "module",
    "function",
    "builtin_function_or_method",
    "instance",
    "_Feature"
   ],
   "window_display": false
  }
 },
 "nbformat": 4,
 "nbformat_minor": 4
}
