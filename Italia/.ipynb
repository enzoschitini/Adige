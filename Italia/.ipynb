{
 "cells": [
  {
   "cell_type": "markdown",
   "metadata": {},
   "source": [
    "## Preparazione dei dati per le metriche"
   ]
  },
  {
   "cell_type": "markdown",
   "metadata": {},
   "source": [
    "> Qui dobbiamo prendere i dati grezzi raccolti dalle lezioni che sono state fatte e renderli possibili da leggere. Inoltre abbiamo bisogno di una sistemazione per farlo più volte e adattarlo in base all'anno."
   ]
  },
  {
   "cell_type": "markdown",
   "metadata": {},
   "source": [
    "#### Sistemazione dell'algoritmo"
   ]
  },
  {
   "cell_type": "code",
   "execution_count": 75,
   "metadata": {},
   "outputs": [],
   "source": [
    "import pandas as pd\n",
    "ANNO = 2023"
   ]
  },
  {
   "cell_type": "code",
   "execution_count": 76,
   "metadata": {},
   "outputs": [
    {
     "data": {
      "text/html": [
       "<div>\n",
       "<style scoped>\n",
       "    .dataframe tbody tr th:only-of-type {\n",
       "        vertical-align: middle;\n",
       "    }\n",
       "\n",
       "    .dataframe tbody tr th {\n",
       "        vertical-align: top;\n",
       "    }\n",
       "\n",
       "    .dataframe thead th {\n",
       "        text-align: right;\n",
       "    }\n",
       "</style>\n",
       "<table border=\"1\" class=\"dataframe\">\n",
       "  <thead>\n",
       "    <tr style=\"text-align: right;\">\n",
       "      <th></th>\n",
       "      <th>Ora</th>\n",
       "      <th>Data</th>\n",
       "      <th>Slide</th>\n",
       "      <th>Professoressa</th>\n",
       "    </tr>\n",
       "  </thead>\n",
       "  <tbody>\n",
       "    <tr>\n",
       "      <th>0</th>\n",
       "      <td>8</td>\n",
       "      <td>2205</td>\n",
       "      <td>B132</td>\n",
       "      <td>Virginia</td>\n",
       "    </tr>\n",
       "    <tr>\n",
       "      <th>1</th>\n",
       "      <td>11</td>\n",
       "      <td>2205</td>\n",
       "      <td>B135</td>\n",
       "      <td>Graziana</td>\n",
       "    </tr>\n",
       "    <tr>\n",
       "      <th>2</th>\n",
       "      <td>10</td>\n",
       "      <td>2305</td>\n",
       "      <td>C123</td>\n",
       "      <td>Francesca</td>\n",
       "    </tr>\n",
       "    <tr>\n",
       "      <th>3</th>\n",
       "      <td>11</td>\n",
       "      <td>2305</td>\n",
       "      <td>B143</td>\n",
       "      <td>Sara</td>\n",
       "    </tr>\n",
       "    <tr>\n",
       "      <th>4</th>\n",
       "      <td>10</td>\n",
       "      <td>2405</td>\n",
       "      <td>B141</td>\n",
       "      <td>Alice</td>\n",
       "    </tr>\n",
       "  </tbody>\n",
       "</table>\n",
       "</div>"
      ],
      "text/plain": [
       "   Ora   Data  Slide  Professoressa\n",
       "0    8   2205   B132       Virginia\n",
       "1   11   2205   B135       Graziana\n",
       "2   10   2305   C123      Francesca\n",
       "3   11   2305   B143           Sara\n",
       "4   10   2405   B141          Alice"
      ]
     },
     "execution_count": 76,
     "metadata": {},
     "output_type": "execute_result"
    }
   ],
   "source": [
    "df = pd.read_csv('Data.csv')\n",
    "df.head()"
   ]
  },
  {
   "cell_type": "markdown",
   "metadata": {},
   "source": [
    "## Riparando le colonne"
   ]
  },
  {
   "cell_type": "markdown",
   "metadata": {},
   "source": [
    "- Lezione"
   ]
  },
  {
   "cell_type": "code",
   "execution_count": 77,
   "metadata": {},
   "outputs": [],
   "source": [
    "def livello(valore):\n",
    "    valore = list(valore)\n",
    "    valore = f' {valore[1]}{valore[2]}'\n",
    "    return valore\n",
    "\n",
    "#livello(' C123')\n",
    "df[' Livello'] = df[' Slide'].apply(livello)"
   ]
  },
  {
   "cell_type": "markdown",
   "metadata": {},
   "source": [
    "### Le date"
   ]
  },
  {
   "cell_type": "markdown",
   "metadata": {},
   "source": [
    "> Qui provere oltre a corregere le date, si proverà ad aggiungere altre colonne per avere una comprensione più nel dettaglio"
   ]
  },
  {
   "cell_type": "code",
   "execution_count": 78,
   "metadata": {},
   "outputs": [],
   "source": [
    "mapping_day = {\"Monday\": \"Lunedì\", \n",
    "           \"Tuesday\": \"Martedì\", \n",
    "           \"Wednesday\": \"Mercoledì\",\n",
    "           \"Thursday\": \"Giovedì\",\n",
    "           \"Friday\": \"Venerdì\",\n",
    "           \"Saturday\": \"Sabato\",\n",
    "           \"Sunday\": \"Domenica\"}\n",
    "\n",
    "mapping_month = {\"January\": \"Gennaio\",\n",
    "                 \"February\": \"Febbraio\",\n",
    "                 \"March\": \"Marzo\",\n",
    "                 \"April\": \"Abrile\",\n",
    "                 \"May\": \"Maggio\", \n",
    "                 \"June\": \"Giugno\", \n",
    "                 \"July\": \"Luglio\",\n",
    "                 \"August\": \"Agosto\",\n",
    "                 \"September\": \"Settembre\",\n",
    "                 \"October\": \"Ottobre\",\n",
    "                 \"November\": \"Novembre\",\n",
    "                 \"December\": \"Dicembre\"}"
   ]
  },
  {
   "cell_type": "markdown",
   "metadata": {},
   "source": [
    "- Date"
   ]
  },
  {
   "cell_type": "code",
   "execution_count": 79,
   "metadata": {},
   "outputs": [],
   "source": [
    "df[' Data'] = df[' Data'].astype(str)\n",
    "df[' Data'] = df[' Data'].str.zfill(4).str.replace(r'^(\\d{2})(\\d{2})$', r'\\1-\\2', regex=True)"
   ]
  },
  {
   "cell_type": "code",
   "execution_count": 80,
   "metadata": {},
   "outputs": [],
   "source": [
    "df[' Data'] = pd.to_datetime(df[' Data'].astype(str), format='%d-%m').dt.strftime('%d-%m-2023')"
   ]
  },
  {
   "cell_type": "code",
   "execution_count": 81,
   "metadata": {},
   "outputs": [
    {
     "name": "stderr",
     "output_type": "stream",
     "text": [
      "C:\\Users\\ES\\AppData\\Local\\Temp\\ipykernel_13752\\3397591383.py:1: UserWarning: Parsing dates in %d-%m-%Y format when dayfirst=False (the default) was specified. Pass `dayfirst=True` or specify a format to silence this warning.\n",
      "  df[' Giorno della settimana'] = pd.to_datetime(df[' Data']).dt.day_name()\n",
      "C:\\Users\\ES\\AppData\\Local\\Temp\\ipykernel_13752\\3397591383.py:2: UserWarning: Parsing dates in %d-%m-%Y format when dayfirst=False (the default) was specified. Pass `dayfirst=True` or specify a format to silence this warning.\n",
      "  df[' Mese'] = pd.to_datetime(df[' Data']).dt.month_name()\n"
     ]
    }
   ],
   "source": [
    "df[' Giorno della settimana'] = pd.to_datetime(df[' Data']).dt.day_name()\n",
    "df[' Mese'] = pd.to_datetime(df[' Data']).dt.month_name()\n",
    "df[' Anno'] = ANNO\n",
    "\n",
    "df[\" Giorno della settimana\"] = df[\" Giorno della settimana\"].replace(mapping_day)\n",
    "df[\" Mese\"] = df[\" Mese\"].replace(mapping_month)"
   ]
  },
  {
   "cell_type": "code",
   "execution_count": 82,
   "metadata": {},
   "outputs": [
    {
     "data": {
      "text/plain": [
       "array(['Maggio', 'Giugno', 'Luglio', 'Agosto', 'Settembre', 'Ottobre',\n",
       "       'Novembre', 'Dicembre'], dtype=object)"
      ]
     },
     "execution_count": 82,
     "metadata": {},
     "output_type": "execute_result"
    }
   ],
   "source": [
    "df[' Mese'].unique()"
   ]
  },
  {
   "cell_type": "markdown",
   "metadata": {},
   "source": [
    "totale, _ = df.shape\n",
    "index = list(map(lambda x: x, range(1, totale)))\n",
    "index1 = pd.Series(index)\n",
    "\n",
    "df = pd.concat([df, index1], axis=1)"
   ]
  },
  {
   "cell_type": "code",
   "execution_count": 83,
   "metadata": {},
   "outputs": [
    {
     "data": {
      "text/html": [
       "<div>\n",
       "<style scoped>\n",
       "    .dataframe tbody tr th:only-of-type {\n",
       "        vertical-align: middle;\n",
       "    }\n",
       "\n",
       "    .dataframe tbody tr th {\n",
       "        vertical-align: top;\n",
       "    }\n",
       "\n",
       "    .dataframe thead th {\n",
       "        text-align: right;\n",
       "    }\n",
       "</style>\n",
       "<table border=\"1\" class=\"dataframe\">\n",
       "  <thead>\n",
       "    <tr style=\"text-align: right;\">\n",
       "      <th></th>\n",
       "      <th>Ora</th>\n",
       "      <th>Data</th>\n",
       "      <th>Slide</th>\n",
       "      <th>Professoressa</th>\n",
       "      <th>Livello</th>\n",
       "      <th>Giorno della settimana</th>\n",
       "      <th>Mese</th>\n",
       "      <th>Anno</th>\n",
       "    </tr>\n",
       "  </thead>\n",
       "  <tbody>\n",
       "    <tr>\n",
       "      <th>0</th>\n",
       "      <td>8</td>\n",
       "      <td>22-05-2023</td>\n",
       "      <td>B132</td>\n",
       "      <td>Virginia</td>\n",
       "      <td>B1</td>\n",
       "      <td>Lunedì</td>\n",
       "      <td>Maggio</td>\n",
       "      <td>2023</td>\n",
       "    </tr>\n",
       "    <tr>\n",
       "      <th>1</th>\n",
       "      <td>11</td>\n",
       "      <td>22-05-2023</td>\n",
       "      <td>B135</td>\n",
       "      <td>Graziana</td>\n",
       "      <td>B1</td>\n",
       "      <td>Lunedì</td>\n",
       "      <td>Maggio</td>\n",
       "      <td>2023</td>\n",
       "    </tr>\n",
       "    <tr>\n",
       "      <th>2</th>\n",
       "      <td>10</td>\n",
       "      <td>23-05-2023</td>\n",
       "      <td>C123</td>\n",
       "      <td>Francesca</td>\n",
       "      <td>C1</td>\n",
       "      <td>Martedì</td>\n",
       "      <td>Maggio</td>\n",
       "      <td>2023</td>\n",
       "    </tr>\n",
       "    <tr>\n",
       "      <th>3</th>\n",
       "      <td>11</td>\n",
       "      <td>23-05-2023</td>\n",
       "      <td>B143</td>\n",
       "      <td>Sara</td>\n",
       "      <td>B1</td>\n",
       "      <td>Martedì</td>\n",
       "      <td>Maggio</td>\n",
       "      <td>2023</td>\n",
       "    </tr>\n",
       "    <tr>\n",
       "      <th>4</th>\n",
       "      <td>10</td>\n",
       "      <td>24-05-2023</td>\n",
       "      <td>B141</td>\n",
       "      <td>Alice</td>\n",
       "      <td>B1</td>\n",
       "      <td>Mercoledì</td>\n",
       "      <td>Maggio</td>\n",
       "      <td>2023</td>\n",
       "    </tr>\n",
       "  </tbody>\n",
       "</table>\n",
       "</div>"
      ],
      "text/plain": [
       "   Ora        Data  Slide  Professoressa  Livello  Giorno della settimana  \\\n",
       "0    8  22-05-2023   B132       Virginia       B1                  Lunedì   \n",
       "1   11  22-05-2023   B135       Graziana       B1                  Lunedì   \n",
       "2   10  23-05-2023   C123      Francesca       C1                 Martedì   \n",
       "3   11  23-05-2023   B143           Sara       B1                 Martedì   \n",
       "4   10  24-05-2023   B141          Alice       B1               Mercoledì   \n",
       "\n",
       "     Mese   Anno  \n",
       "0  Maggio   2023  \n",
       "1  Maggio   2023  \n",
       "2  Maggio   2023  \n",
       "3  Maggio   2023  \n",
       "4  Maggio   2023  "
      ]
     },
     "execution_count": 83,
     "metadata": {},
     "output_type": "execute_result"
    }
   ],
   "source": [
    "df.head()"
   ]
  },
  {
   "cell_type": "code",
   "execution_count": 84,
   "metadata": {},
   "outputs": [],
   "source": [
    "df = df.rename(columns={' Slide':' Lezione'})"
   ]
  },
  {
   "cell_type": "code",
   "execution_count": 85,
   "metadata": {},
   "outputs": [
    {
     "data": {
      "text/plain": [
       "Index(['Ora', ' Data', ' Lezione', ' Professoressa', ' Livello',\n",
       "       ' Giorno della settimana', ' Mese', ' Anno'],\n",
       "      dtype='object')"
      ]
     },
     "execution_count": 85,
     "metadata": {},
     "output_type": "execute_result"
    }
   ],
   "source": [
    "df.columns"
   ]
  },
  {
   "cell_type": "code",
   "execution_count": 86,
   "metadata": {},
   "outputs": [],
   "source": [
    "df = df[['Ora', ' Data', ' Lezione', ' Professoressa', ' Livello',\n",
    "       ' Giorno della settimana', ' Mese', ' Anno']]"
   ]
  },
  {
   "cell_type": "code",
   "execution_count": 87,
   "metadata": {},
   "outputs": [
    {
     "data": {
      "text/html": [
       "<div>\n",
       "<style scoped>\n",
       "    .dataframe tbody tr th:only-of-type {\n",
       "        vertical-align: middle;\n",
       "    }\n",
       "\n",
       "    .dataframe tbody tr th {\n",
       "        vertical-align: top;\n",
       "    }\n",
       "\n",
       "    .dataframe thead th {\n",
       "        text-align: right;\n",
       "    }\n",
       "</style>\n",
       "<table border=\"1\" class=\"dataframe\">\n",
       "  <thead>\n",
       "    <tr style=\"text-align: right;\">\n",
       "      <th></th>\n",
       "      <th>Ora</th>\n",
       "      <th>Data</th>\n",
       "      <th>Lezione</th>\n",
       "      <th>Professoressa</th>\n",
       "      <th>Livello</th>\n",
       "      <th>Giorno della settimana</th>\n",
       "      <th>Mese</th>\n",
       "      <th>Anno</th>\n",
       "    </tr>\n",
       "  </thead>\n",
       "  <tbody>\n",
       "    <tr>\n",
       "      <th>0</th>\n",
       "      <td>8</td>\n",
       "      <td>22-05-2023</td>\n",
       "      <td>B132</td>\n",
       "      <td>Virginia</td>\n",
       "      <td>B1</td>\n",
       "      <td>Lunedì</td>\n",
       "      <td>Maggio</td>\n",
       "      <td>2023</td>\n",
       "    </tr>\n",
       "    <tr>\n",
       "      <th>1</th>\n",
       "      <td>11</td>\n",
       "      <td>22-05-2023</td>\n",
       "      <td>B135</td>\n",
       "      <td>Graziana</td>\n",
       "      <td>B1</td>\n",
       "      <td>Lunedì</td>\n",
       "      <td>Maggio</td>\n",
       "      <td>2023</td>\n",
       "    </tr>\n",
       "    <tr>\n",
       "      <th>2</th>\n",
       "      <td>10</td>\n",
       "      <td>23-05-2023</td>\n",
       "      <td>C123</td>\n",
       "      <td>Francesca</td>\n",
       "      <td>C1</td>\n",
       "      <td>Martedì</td>\n",
       "      <td>Maggio</td>\n",
       "      <td>2023</td>\n",
       "    </tr>\n",
       "    <tr>\n",
       "      <th>3</th>\n",
       "      <td>11</td>\n",
       "      <td>23-05-2023</td>\n",
       "      <td>B143</td>\n",
       "      <td>Sara</td>\n",
       "      <td>B1</td>\n",
       "      <td>Martedì</td>\n",
       "      <td>Maggio</td>\n",
       "      <td>2023</td>\n",
       "    </tr>\n",
       "    <tr>\n",
       "      <th>4</th>\n",
       "      <td>10</td>\n",
       "      <td>24-05-2023</td>\n",
       "      <td>B141</td>\n",
       "      <td>Alice</td>\n",
       "      <td>B1</td>\n",
       "      <td>Mercoledì</td>\n",
       "      <td>Maggio</td>\n",
       "      <td>2023</td>\n",
       "    </tr>\n",
       "  </tbody>\n",
       "</table>\n",
       "</div>"
      ],
      "text/plain": [
       "   Ora        Data  Lezione  Professoressa  Livello  Giorno della settimana  \\\n",
       "0    8  22-05-2023     B132       Virginia       B1                  Lunedì   \n",
       "1   11  22-05-2023     B135       Graziana       B1                  Lunedì   \n",
       "2   10  23-05-2023     C123      Francesca       C1                 Martedì   \n",
       "3   11  23-05-2023     B143           Sara       B1                 Martedì   \n",
       "4   10  24-05-2023     B141          Alice       B1               Mercoledì   \n",
       "\n",
       "     Mese   Anno  \n",
       "0  Maggio   2023  \n",
       "1  Maggio   2023  \n",
       "2  Maggio   2023  \n",
       "3  Maggio   2023  \n",
       "4  Maggio   2023  "
      ]
     },
     "execution_count": 87,
     "metadata": {},
     "output_type": "execute_result"
    }
   ],
   "source": [
    "df.head()"
   ]
  },
  {
   "cell_type": "markdown",
   "metadata": {},
   "source": [
    "#### Conclusione"
   ]
  },
  {
   "cell_type": "markdown",
   "metadata": {},
   "source": [
    "Fin qui è già tutto di cui avevamo bisogno. Ma ciò che si vuole fare dopo può cambiare in base all'anno, o se si vuole metterli dentro ai dati principali."
   ]
  },
  {
   "cell_type": "code",
   "execution_count": 88,
   "metadata": {},
   "outputs": [],
   "source": [
    "def conclusione(operazione:str, csv):\n",
    "    dataframe = pd.read_csv(csv)\n",
    "    op = operazione\n",
    "    if op == 1:\n",
    "        df_finale = pd.concat(df, df)\n",
    "        df_finale.to_csv('L')\n",
    "        return df_finale"
   ]
  },
  {
   "cell_type": "code",
   "execution_count": 89,
   "metadata": {},
   "outputs": [],
   "source": [
    "#conclusione(1, 'Lezioni.csv')"
   ]
  }
 ],
 "metadata": {
  "kernelspec": {
   "display_name": "Python 3",
   "language": "python",
   "name": "python3"
  },
  "language_info": {
   "codemirror_mode": {
    "name": "ipython",
    "version": 3
   },
   "file_extension": ".py",
   "mimetype": "text/x-python",
   "name": "python",
   "nbconvert_exporter": "python",
   "pygments_lexer": "ipython3",
   "version": "3.12.1"
  }
 },
 "nbformat": 4,
 "nbformat_minor": 2
}
