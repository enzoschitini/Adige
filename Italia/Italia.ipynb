{
 "cells": [
  {
   "cell_type": "code",
   "execution_count": 1,
   "metadata": {},
   "outputs": [
    {
     "name": "stderr",
     "output_type": "stream",
     "text": [
      "C:\\Users\\ES\\AppData\\Local\\Temp\\ipykernel_12500\\3125953439.py:2: DeprecationWarning: \n",
      "Pyarrow will become a required dependency of pandas in the next major release of pandas (pandas 3.0),\n",
      "(to allow more performant data types, such as the Arrow string type, and better interoperability with other libraries)\n",
      "but was not found to be installed on your system.\n",
      "If this would cause problems for you,\n",
      "please provide us feedback at https://github.com/pandas-dev/pandas/issues/54466\n",
      "        \n",
      "  import pandas as pd\n"
     ]
    }
   ],
   "source": [
    "import numpy as np\n",
    "import pandas as pd\n",
    "import seaborn as sns\n",
    "import matplotlib.pyplot as plt\n",
    "from datetime import datetime\n",
    "\n",
    "sns.set_theme()  \n",
    "%matplotlib inline"
   ]
  },
  {
   "cell_type": "markdown",
   "metadata": {},
   "source": [
    "# Dati"
   ]
  },
  {
   "cell_type": "code",
   "execution_count": 2,
   "metadata": {},
   "outputs": [],
   "source": [
    "df = pd.read_csv('./Lezioni.csv')"
   ]
  },
  {
   "cell_type": "code",
   "execution_count": 3,
   "metadata": {},
   "outputs": [],
   "source": [
    "#df = df[df[' Professoressa'] == ' Chiara']"
   ]
  },
  {
   "cell_type": "code",
   "execution_count": 4,
   "metadata": {},
   "outputs": [],
   "source": [
    "#df = df[(df['Index'] >= 100) & (df['Index'] <= 154)]"
   ]
  },
  {
   "cell_type": "code",
   "execution_count": 5,
   "metadata": {},
   "outputs": [],
   "source": [
    "righe, colonne = df.shape"
   ]
  },
  {
   "cell_type": "code",
   "execution_count": 6,
   "metadata": {},
   "outputs": [
    {
     "name": "stdout",
     "output_type": "stream",
     "text": [
      "Tabela Exploratória\n",
      "Nesses dados temos 189 linhas e 10 colunas.\n"
     ]
    },
    {
     "data": {
      "text/html": [
       "<div>\n",
       "<style scoped>\n",
       "    .dataframe tbody tr th:only-of-type {\n",
       "        vertical-align: middle;\n",
       "    }\n",
       "\n",
       "    .dataframe tbody tr th {\n",
       "        vertical-align: top;\n",
       "    }\n",
       "\n",
       "    .dataframe thead th {\n",
       "        text-align: right;\n",
       "    }\n",
       "</style>\n",
       "<table border=\"1\" class=\"dataframe\">\n",
       "  <thead>\n",
       "    <tr style=\"text-align: right;\">\n",
       "      <th></th>\n",
       "      <th>Nome</th>\n",
       "      <th>Tipo</th>\n",
       "      <th>qnt_categorias</th>\n",
       "      <th>Dados nulos</th>\n",
       "      <th>Dados nulos %</th>\n",
       "    </tr>\n",
       "  </thead>\n",
       "  <tbody>\n",
       "    <tr>\n",
       "      <th>1</th>\n",
       "      <td>Unnamed: 0</td>\n",
       "      <td>numpy.int64</td>\n",
       "      <td>189</td>\n",
       "      <td>0</td>\n",
       "      <td>0.0</td>\n",
       "    </tr>\n",
       "    <tr>\n",
       "      <th>2</th>\n",
       "      <td>Index</td>\n",
       "      <td>numpy.int64</td>\n",
       "      <td>189</td>\n",
       "      <td>0</td>\n",
       "      <td>0.0</td>\n",
       "    </tr>\n",
       "    <tr>\n",
       "      <th>3</th>\n",
       "      <td>Data</td>\n",
       "      <td>str</td>\n",
       "      <td>120</td>\n",
       "      <td>0</td>\n",
       "      <td>0.0</td>\n",
       "    </tr>\n",
       "    <tr>\n",
       "      <th>4</th>\n",
       "      <td>Ora</td>\n",
       "      <td>numpy.int64</td>\n",
       "      <td>7</td>\n",
       "      <td>0</td>\n",
       "      <td>0.0</td>\n",
       "    </tr>\n",
       "    <tr>\n",
       "      <th>5</th>\n",
       "      <td>Professoressa</td>\n",
       "      <td>str</td>\n",
       "      <td>42</td>\n",
       "      <td>0</td>\n",
       "      <td>0.0</td>\n",
       "    </tr>\n",
       "    <tr>\n",
       "      <th>6</th>\n",
       "      <td>Livello</td>\n",
       "      <td>str</td>\n",
       "      <td>3</td>\n",
       "      <td>0</td>\n",
       "      <td>0.0</td>\n",
       "    </tr>\n",
       "    <tr>\n",
       "      <th>7</th>\n",
       "      <td>Lezione</td>\n",
       "      <td>str</td>\n",
       "      <td>84</td>\n",
       "      <td>0</td>\n",
       "      <td>0.0</td>\n",
       "    </tr>\n",
       "    <tr>\n",
       "      <th>8</th>\n",
       "      <td>Giorno della settimana</td>\n",
       "      <td>str</td>\n",
       "      <td>7</td>\n",
       "      <td>0</td>\n",
       "      <td>0.0</td>\n",
       "    </tr>\n",
       "    <tr>\n",
       "      <th>9</th>\n",
       "      <td>Mese</td>\n",
       "      <td>str</td>\n",
       "      <td>9</td>\n",
       "      <td>0</td>\n",
       "      <td>0.0</td>\n",
       "    </tr>\n",
       "    <tr>\n",
       "      <th>10</th>\n",
       "      <td>Anno</td>\n",
       "      <td>numpy.int64</td>\n",
       "      <td>1</td>\n",
       "      <td>0</td>\n",
       "      <td>0.0</td>\n",
       "    </tr>\n",
       "  </tbody>\n",
       "</table>\n",
       "</div>"
      ],
      "text/plain": [
       "                      Nome         Tipo  qnt_categorias  Dados nulos  \\\n",
       "1               Unnamed: 0  numpy.int64             189            0   \n",
       "2                    Index  numpy.int64             189            0   \n",
       "3                     Data          str             120            0   \n",
       "4                      Ora  numpy.int64               7            0   \n",
       "5            Professoressa          str              42            0   \n",
       "6                  Livello          str               3            0   \n",
       "7                  Lezione          str              84            0   \n",
       "8   Giorno della settimana          str               7            0   \n",
       "9                     Mese          str               9            0   \n",
       "10                    Anno  numpy.int64               1            0   \n",
       "\n",
       "    Dados nulos %  \n",
       "1             0.0  \n",
       "2             0.0  \n",
       "3             0.0  \n",
       "4             0.0  \n",
       "5             0.0  \n",
       "6             0.0  \n",
       "7             0.0  \n",
       "8             0.0  \n",
       "9             0.0  \n",
       "10            0.0  "
      ]
     },
     "execution_count": 6,
     "metadata": {},
     "output_type": "execute_result"
    }
   ],
   "source": [
    "def guia(data_frame):\n",
    "    linhas, qnt_colunas = data_frame.shape\n",
    "    sequencia = list(range(qnt_colunas + 1))\n",
    "    sequencia = sequencia[1:]\n",
    "\n",
    "    colunas = data_frame.columns.to_list()\n",
    "    lista_tipos = [str(type(data_frame[col][0])).split(\"'\")[1] for col in data_frame.columns]\n",
    "    lista_categorias = [data_frame[col].nunique() for col in data_frame.columns]\n",
    "\n",
    "    elementos_nulos = data_frame.isnull().sum()\n",
    "    elementos_nulos = elementos_nulos.to_list()\n",
    "\n",
    "    percentual_dados_nulos = round((data_frame.isnull().sum() / linhas) * 100)\n",
    "    percentual_dados_nulos = percentual_dados_nulos.to_list()\n",
    "\n",
    "    dados = pd.DataFrame({'Nome': colunas, \n",
    "                          'Tipo': lista_tipos, \n",
    "                          'qnt_categorias': lista_categorias,\n",
    "                          'Dados nulos' : elementos_nulos,\n",
    "                          'Dados nulos %' : percentual_dados_nulos}, index=sequencia)\n",
    "    \n",
    "    # Cabeçalhos\n",
    "    print('Tabela Exploratória')\n",
    "    print(f'Nesses dados temos {linhas} linhas e {qnt_colunas} colunas.')\n",
    "    \n",
    "    return dados\n",
    "\n",
    "guia_df = guia(df)\n",
    "guia_df.head(10)"
   ]
  },
  {
   "cell_type": "code",
   "execution_count": 7,
   "metadata": {},
   "outputs": [],
   "source": [
    "df = df.drop('Unnamed: 0', axis=1)"
   ]
  },
  {
   "cell_type": "markdown",
   "metadata": {},
   "source": [
    "# Tabella"
   ]
  },
  {
   "cell_type": "code",
   "execution_count": 8,
   "metadata": {},
   "outputs": [
    {
     "data": {
      "text/html": [
       "<div>\n",
       "<style scoped>\n",
       "    .dataframe tbody tr th:only-of-type {\n",
       "        vertical-align: middle;\n",
       "    }\n",
       "\n",
       "    .dataframe tbody tr th {\n",
       "        vertical-align: top;\n",
       "    }\n",
       "\n",
       "    .dataframe thead th {\n",
       "        text-align: right;\n",
       "    }\n",
       "</style>\n",
       "<table border=\"1\" class=\"dataframe\">\n",
       "  <thead>\n",
       "    <tr style=\"text-align: right;\">\n",
       "      <th></th>\n",
       "      <th>Index</th>\n",
       "      <th>Data</th>\n",
       "      <th>Ora</th>\n",
       "      <th>Professoressa</th>\n",
       "      <th>Livello</th>\n",
       "      <th>Lezione</th>\n",
       "      <th>Giorno della settimana</th>\n",
       "      <th>Mese</th>\n",
       "      <th>Anno</th>\n",
       "    </tr>\n",
       "  </thead>\n",
       "  <tbody>\n",
       "    <tr>\n",
       "      <th>0</th>\n",
       "      <td>1</td>\n",
       "      <td>2023-05-22</td>\n",
       "      <td>8</td>\n",
       "      <td>Virginia</td>\n",
       "      <td>B1</td>\n",
       "      <td>B132</td>\n",
       "      <td>Lunedì</td>\n",
       "      <td>Maggio</td>\n",
       "      <td>2023</td>\n",
       "    </tr>\n",
       "    <tr>\n",
       "      <th>1</th>\n",
       "      <td>2</td>\n",
       "      <td>2023-05-22</td>\n",
       "      <td>11</td>\n",
       "      <td>Graziana</td>\n",
       "      <td>B1</td>\n",
       "      <td>B135</td>\n",
       "      <td>Lunedì</td>\n",
       "      <td>Maggio</td>\n",
       "      <td>2023</td>\n",
       "    </tr>\n",
       "    <tr>\n",
       "      <th>2</th>\n",
       "      <td>3</td>\n",
       "      <td>2023-05-23</td>\n",
       "      <td>10</td>\n",
       "      <td>Francesca</td>\n",
       "      <td>C1</td>\n",
       "      <td>C123</td>\n",
       "      <td>Martedì</td>\n",
       "      <td>Maggio</td>\n",
       "      <td>2023</td>\n",
       "    </tr>\n",
       "    <tr>\n",
       "      <th>3</th>\n",
       "      <td>4</td>\n",
       "      <td>2023-05-23</td>\n",
       "      <td>11</td>\n",
       "      <td>Sara</td>\n",
       "      <td>B1</td>\n",
       "      <td>B143</td>\n",
       "      <td>Martedì</td>\n",
       "      <td>Maggio</td>\n",
       "      <td>2023</td>\n",
       "    </tr>\n",
       "    <tr>\n",
       "      <th>4</th>\n",
       "      <td>5</td>\n",
       "      <td>2023-05-24</td>\n",
       "      <td>10</td>\n",
       "      <td>Alice</td>\n",
       "      <td>B1</td>\n",
       "      <td>B141</td>\n",
       "      <td>Mercoledì</td>\n",
       "      <td>Maggio</td>\n",
       "      <td>2023</td>\n",
       "    </tr>\n",
       "  </tbody>\n",
       "</table>\n",
       "</div>"
      ],
      "text/plain": [
       "   Index        Data  Ora  Professoressa Livello Lezione  \\\n",
       "0      1  2023-05-22    8       Virginia      B1    B132   \n",
       "1      2  2023-05-22   11       Graziana      B1    B135   \n",
       "2      3  2023-05-23   10      Francesca      C1    C123   \n",
       "3      4  2023-05-23   11           Sara      B1    B143   \n",
       "4      5  2023-05-24   10          Alice      B1    B141   \n",
       "\n",
       "  Giorno della settimana    Mese  Anno  \n",
       "0                 Lunedì  Maggio  2023  \n",
       "1                 Lunedì  Maggio  2023  \n",
       "2                Martedì  Maggio  2023  \n",
       "3                Martedì  Maggio  2023  \n",
       "4              Mercoledì  Maggio  2023  "
      ]
     },
     "execution_count": 8,
     "metadata": {},
     "output_type": "execute_result"
    }
   ],
   "source": [
    "df.head()"
   ]
  },
  {
   "cell_type": "code",
   "execution_count": 9,
   "metadata": {},
   "outputs": [],
   "source": [
    "def data_finiziale_finale(dat_frame, dfi):\n",
    "    if dfi == 0:\n",
    "        dt_iniziale = dat_frame.head(1)\n",
    "        dt_iniziale = dt_iniziale[' Data'].to_list()\n",
    "        dt_iniziale = dt_iniziale[0]\n",
    "        \n",
    "        return dt_iniziale\n",
    "    \n",
    "    elif dfi == 1:\n",
    "        dt_finale = dat_frame.tail(1)\n",
    "        dt_finale = dt_finale[' Data'].to_list()\n",
    "        dt_finale = dt_finale[0]\n",
    "\n",
    "        return dt_finale"
   ]
  },
  {
   "cell_type": "markdown",
   "metadata": {},
   "source": [
    "# Durata"
   ]
  },
  {
   "cell_type": "code",
   "execution_count": 10,
   "metadata": {},
   "outputs": [
    {
     "name": "stdout",
     "output_type": "stream",
     "text": [
      "Il numero di giorni tra il 2023-05-22 e il 2023-12-27 è 219.\n"
     ]
    }
   ],
   "source": [
    "# Definisci le date\n",
    "\n",
    "data1 = datetime.strptime(data_finiziale_finale(df, 0), '%Y-%m-%d')\n",
    "data2 = datetime.strptime(data_finiziale_finale(df, 1), '%Y-%m-%d')\n",
    "\n",
    "# Calcola la differenza tra le date\n",
    "diff = data2 - data1\n",
    "\n",
    "print(f\"Il numero di giorni tra il {data_finiziale_finale(df, 0)} e il {data_finiziale_finale(df, 1)} è {diff.days}.\")"
   ]
  },
  {
   "cell_type": "code",
   "execution_count": 11,
   "metadata": {},
   "outputs": [
    {
     "data": {
      "text/html": [
       "<div>\n",
       "<style scoped>\n",
       "    .dataframe tbody tr th:only-of-type {\n",
       "        vertical-align: middle;\n",
       "    }\n",
       "\n",
       "    .dataframe tbody tr th {\n",
       "        vertical-align: top;\n",
       "    }\n",
       "\n",
       "    .dataframe thead th {\n",
       "        text-align: right;\n",
       "    }\n",
       "</style>\n",
       "<table border=\"1\" class=\"dataframe\">\n",
       "  <thead>\n",
       "    <tr style=\"text-align: right;\">\n",
       "      <th></th>\n",
       "      <th>Data</th>\n",
       "      <th>Professoressa</th>\n",
       "      <th>Livello</th>\n",
       "      <th>Lezione</th>\n",
       "      <th>Giorno della settimana</th>\n",
       "      <th>Mese</th>\n",
       "    </tr>\n",
       "  </thead>\n",
       "  <tbody>\n",
       "    <tr>\n",
       "      <th>0</th>\n",
       "      <td>2023-05-22</td>\n",
       "      <td>Virginia</td>\n",
       "      <td>B1</td>\n",
       "      <td>B132</td>\n",
       "      <td>Lunedì</td>\n",
       "      <td>Maggio</td>\n",
       "    </tr>\n",
       "    <tr>\n",
       "      <th>1</th>\n",
       "      <td>2023-05-22</td>\n",
       "      <td>Graziana</td>\n",
       "      <td>B1</td>\n",
       "      <td>B135</td>\n",
       "      <td>Lunedì</td>\n",
       "      <td>Maggio</td>\n",
       "    </tr>\n",
       "    <tr>\n",
       "      <th>2</th>\n",
       "      <td>2023-05-23</td>\n",
       "      <td>Francesca</td>\n",
       "      <td>C1</td>\n",
       "      <td>C123</td>\n",
       "      <td>Martedì</td>\n",
       "      <td>Maggio</td>\n",
       "    </tr>\n",
       "    <tr>\n",
       "      <th>3</th>\n",
       "      <td>2023-05-23</td>\n",
       "      <td>Sara</td>\n",
       "      <td>B1</td>\n",
       "      <td>B143</td>\n",
       "      <td>Martedì</td>\n",
       "      <td>Maggio</td>\n",
       "    </tr>\n",
       "    <tr>\n",
       "      <th>4</th>\n",
       "      <td>2023-05-24</td>\n",
       "      <td>Alice</td>\n",
       "      <td>B1</td>\n",
       "      <td>B141</td>\n",
       "      <td>Mercoledì</td>\n",
       "      <td>Maggio</td>\n",
       "    </tr>\n",
       "    <tr>\n",
       "      <th>...</th>\n",
       "      <td>...</td>\n",
       "      <td>...</td>\n",
       "      <td>...</td>\n",
       "      <td>...</td>\n",
       "      <td>...</td>\n",
       "      <td>...</td>\n",
       "    </tr>\n",
       "    <tr>\n",
       "      <th>184</th>\n",
       "      <td>2023-12-12</td>\n",
       "      <td>Lorella</td>\n",
       "      <td>C1</td>\n",
       "      <td>C132</td>\n",
       "      <td>Martedì</td>\n",
       "      <td>Dicembre</td>\n",
       "    </tr>\n",
       "    <tr>\n",
       "      <th>185</th>\n",
       "      <td>2023-12-13</td>\n",
       "      <td>Federica</td>\n",
       "      <td>B2</td>\n",
       "      <td>B210</td>\n",
       "      <td>Mercoledì</td>\n",
       "      <td>Dicembre</td>\n",
       "    </tr>\n",
       "    <tr>\n",
       "      <th>186</th>\n",
       "      <td>2023-12-14</td>\n",
       "      <td>Francesca 2</td>\n",
       "      <td>B2</td>\n",
       "      <td>B235</td>\n",
       "      <td>Giovedì</td>\n",
       "      <td>Dicembre</td>\n",
       "    </tr>\n",
       "    <tr>\n",
       "      <th>187</th>\n",
       "      <td>2023-12-15</td>\n",
       "      <td>Chiara</td>\n",
       "      <td>C1</td>\n",
       "      <td>C101</td>\n",
       "      <td>Venerdì</td>\n",
       "      <td>Dicembre</td>\n",
       "    </tr>\n",
       "    <tr>\n",
       "      <th>188</th>\n",
       "      <td>2023-12-27</td>\n",
       "      <td>Chiara</td>\n",
       "      <td>C1</td>\n",
       "      <td>C124</td>\n",
       "      <td>Mercoledì</td>\n",
       "      <td>Dicembre</td>\n",
       "    </tr>\n",
       "  </tbody>\n",
       "</table>\n",
       "<p>189 rows × 6 columns</p>\n",
       "</div>"
      ],
      "text/plain": [
       "           Data  Professoressa Livello Lezione Giorno della settimana  \\\n",
       "0    2023-05-22       Virginia      B1    B132                 Lunedì   \n",
       "1    2023-05-22       Graziana      B1    B135                 Lunedì   \n",
       "2    2023-05-23      Francesca      C1    C123                Martedì   \n",
       "3    2023-05-23           Sara      B1    B143                Martedì   \n",
       "4    2023-05-24          Alice      B1    B141              Mercoledì   \n",
       "..          ...            ...     ...     ...                    ...   \n",
       "184  2023-12-12        Lorella      C1    C132                Martedì   \n",
       "185  2023-12-13       Federica      B2    B210              Mercoledì   \n",
       "186  2023-12-14    Francesca 2      B2    B235                Giovedì   \n",
       "187  2023-12-15         Chiara      C1    C101                Venerdì   \n",
       "188  2023-12-27         Chiara      C1    C124              Mercoledì   \n",
       "\n",
       "         Mese  \n",
       "0      Maggio  \n",
       "1      Maggio  \n",
       "2      Maggio  \n",
       "3      Maggio  \n",
       "4      Maggio  \n",
       "..        ...  \n",
       "184  Dicembre  \n",
       "185  Dicembre  \n",
       "186  Dicembre  \n",
       "187  Dicembre  \n",
       "188  Dicembre  \n",
       "\n",
       "[189 rows x 6 columns]"
      ]
     },
     "execution_count": 11,
     "metadata": {},
     "output_type": "execute_result"
    }
   ],
   "source": [
    "df_categoricos = df.select_dtypes('object')\n",
    "df_categoricos"
   ]
  },
  {
   "cell_type": "code",
   "execution_count": 12,
   "metadata": {},
   "outputs": [
    {
     "data": {
      "text/html": [
       "<div>\n",
       "<style scoped>\n",
       "    .dataframe tbody tr th:only-of-type {\n",
       "        vertical-align: middle;\n",
       "    }\n",
       "\n",
       "    .dataframe tbody tr th {\n",
       "        vertical-align: top;\n",
       "    }\n",
       "\n",
       "    .dataframe thead th {\n",
       "        text-align: right;\n",
       "    }\n",
       "</style>\n",
       "<table border=\"1\" class=\"dataframe\">\n",
       "  <thead>\n",
       "    <tr style=\"text-align: right;\">\n",
       "      <th></th>\n",
       "      <th>count</th>\n",
       "      <th>unique</th>\n",
       "      <th>top</th>\n",
       "      <th>freq</th>\n",
       "    </tr>\n",
       "  </thead>\n",
       "  <tbody>\n",
       "    <tr>\n",
       "      <th>Data</th>\n",
       "      <td>189</td>\n",
       "      <td>120</td>\n",
       "      <td>2023-06-20</td>\n",
       "      <td>6</td>\n",
       "    </tr>\n",
       "    <tr>\n",
       "      <th>Professoressa</th>\n",
       "      <td>189</td>\n",
       "      <td>42</td>\n",
       "      <td>Federica</td>\n",
       "      <td>26</td>\n",
       "    </tr>\n",
       "    <tr>\n",
       "      <th>Livello</th>\n",
       "      <td>189</td>\n",
       "      <td>3</td>\n",
       "      <td>C1</td>\n",
       "      <td>71</td>\n",
       "    </tr>\n",
       "    <tr>\n",
       "      <th>Lezione</th>\n",
       "      <td>189</td>\n",
       "      <td>84</td>\n",
       "      <td>C123</td>\n",
       "      <td>8</td>\n",
       "    </tr>\n",
       "    <tr>\n",
       "      <th>Giorno della settimana</th>\n",
       "      <td>189</td>\n",
       "      <td>7</td>\n",
       "      <td>Martedì</td>\n",
       "      <td>45</td>\n",
       "    </tr>\n",
       "    <tr>\n",
       "      <th>Mese</th>\n",
       "      <td>189</td>\n",
       "      <td>9</td>\n",
       "      <td>Agosto</td>\n",
       "      <td>33</td>\n",
       "    </tr>\n",
       "  </tbody>\n",
       "</table>\n",
       "</div>"
      ],
      "text/plain": [
       "                       count unique         top freq\n",
       " Data                    189    120  2023-06-20    6\n",
       " Professoressa           189     42    Federica   26\n",
       "Livello                  189      3          C1   71\n",
       "Lezione                  189     84        C123    8\n",
       "Giorno della settimana   189      7     Martedì   45\n",
       "Mese                     189      9      Agosto   33"
      ]
     },
     "execution_count": 12,
     "metadata": {},
     "output_type": "execute_result"
    }
   ],
   "source": [
    "df_categoricos.describe().transpose() # freq / count = %"
   ]
  },
  {
   "cell_type": "code",
   "execution_count": 13,
   "metadata": {},
   "outputs": [
    {
     "data": {
      "text/html": [
       "<div>\n",
       "<style scoped>\n",
       "    .dataframe tbody tr th:only-of-type {\n",
       "        vertical-align: middle;\n",
       "    }\n",
       "\n",
       "    .dataframe tbody tr th {\n",
       "        vertical-align: top;\n",
       "    }\n",
       "\n",
       "    .dataframe thead th {\n",
       "        text-align: right;\n",
       "    }\n",
       "</style>\n",
       "<table border=\"1\" class=\"dataframe\">\n",
       "  <thead>\n",
       "    <tr style=\"text-align: right;\">\n",
       "      <th></th>\n",
       "      <th>count</th>\n",
       "      <th>mean</th>\n",
       "      <th>std</th>\n",
       "      <th>min</th>\n",
       "      <th>25%</th>\n",
       "      <th>50%</th>\n",
       "      <th>75%</th>\n",
       "      <th>max</th>\n",
       "    </tr>\n",
       "  </thead>\n",
       "  <tbody>\n",
       "    <tr>\n",
       "      <th>Ora</th>\n",
       "      <td>189.0</td>\n",
       "      <td>8.767196</td>\n",
       "      <td>1.694416</td>\n",
       "      <td>7.0</td>\n",
       "      <td>7.0</td>\n",
       "      <td>8.0</td>\n",
       "      <td>10.0</td>\n",
       "      <td>13.0</td>\n",
       "    </tr>\n",
       "    <tr>\n",
       "      <th>Anno</th>\n",
       "      <td>189.0</td>\n",
       "      <td>2023.000000</td>\n",
       "      <td>0.000000</td>\n",
       "      <td>2023.0</td>\n",
       "      <td>2023.0</td>\n",
       "      <td>2023.0</td>\n",
       "      <td>2023.0</td>\n",
       "      <td>2023.0</td>\n",
       "    </tr>\n",
       "  </tbody>\n",
       "</table>\n",
       "</div>"
      ],
      "text/plain": [
       "      count         mean       std     min     25%     50%     75%     max\n",
       "Ora   189.0     8.767196  1.694416     7.0     7.0     8.0    10.0    13.0\n",
       "Anno  189.0  2023.000000  0.000000  2023.0  2023.0  2023.0  2023.0  2023.0"
      ]
     },
     "execution_count": 13,
     "metadata": {},
     "output_type": "execute_result"
    }
   ],
   "source": [
    "df_numericos = df.select_dtypes('number')\n",
    "df_numericos.drop('Index', axis=1).select_dtypes('number').describe().transpose()"
   ]
  },
  {
   "cell_type": "code",
   "execution_count": 14,
   "metadata": {},
   "outputs": [
    {
     "data": {
      "text/plain": [
       "0.863013698630137"
      ]
     },
     "execution_count": 14,
     "metadata": {},
     "output_type": "execute_result"
    }
   ],
   "source": [
    "189 / 219"
   ]
  },
  {
   "cell_type": "code",
   "execution_count": 15,
   "metadata": {},
   "outputs": [
    {
     "data": {
      "text/plain": [
       "Index(['Index', ' Data', 'Ora', ' Professoressa', 'Livello', 'Lezione',\n",
       "       'Giorno della settimana', 'Mese', 'Anno'],\n",
       "      dtype='object')"
      ]
     },
     "execution_count": 15,
     "metadata": {},
     "output_type": "execute_result"
    }
   ],
   "source": [
    "df.columns"
   ]
  },
  {
   "cell_type": "code",
   "execution_count": 16,
   "metadata": {},
   "outputs": [
    {
     "data": {
      "image/png": "[encoded data removed]",
      "text/plain": [
       "<Figure size 2300x800 with 4 Axes>"
      ]
     },
     "metadata": {},
     "output_type": "display_data"
    }
   ],
   "source": [
    "plt.close('all')\n",
    "plt.rc('figure', figsize=(23, 8))\n",
    "fig, axes = plt.subplots(2, 2)\n",
    "\n",
    "sns.countplot(ax = axes[0, 0], x='Ora', data=df)\n",
    "sns.countplot(ax = axes[0, 1], x='Livello', data=df)\n",
    "sns.countplot(ax = axes[1, 0], x='Mese', data=df)\n",
    "sns.countplot(ax = axes[1, 1], x='Giorno della settimana', data=df)\n",
    "\n",
    "plt.savefig('Grafici')"
   ]
  },
  {
   "cell_type": "markdown",
   "metadata": {},
   "source": [
    "# Grafici"
   ]
  },
  {
   "cell_type": "code",
   "execution_count": 17,
   "metadata": {},
   "outputs": [
    {
     "data": {
      "image/png": "[encoded data removed]",
      "text/plain": [
       "<Figure size 2300x800 with 1 Axes>"
      ]
     },
     "metadata": {},
     "output_type": "display_data"
    }
   ],
   "source": [
    "numero_di_barre = 15\n",
    "sns.countplot(x=' Professoressa', data=df, order=df[' Professoressa'].value_counts().iloc[:numero_di_barre].index)\n",
    "plt.savefig('Insegnanti')"
   ]
  },
  {
   "cell_type": "code",
   "execution_count": 18,
   "metadata": {},
   "outputs": [
    {
     "name": "stdout",
     "output_type": "stream",
     "text": [
      "date\n",
      "2021-01-03     2.0\n",
      "2021-01-10     7.0\n",
      "2021-01-17    14.0\n",
      "2021-01-24    21.0\n",
      "2021-01-31    28.0\n",
      "Freq: W-SUN, Name: value, dtype: float64\n"
     ]
    }
   ],
   "source": [
    "import pandas as pd\n",
    "\n",
    "# Creare un dataframe di esempio\n",
    "df = pd.DataFrame({'date': ['2021-01-01', '2021-01-02', '2021-01-03', '2021-01-04', '2021-01-05', '2021-01-06', '2021-01-07', '2021-01-08', '2021-01-09', '2021-01-10', '2021-01-11', '2021-01-12', '2021-01-13', '2021-01-14', '2021-01-15', '2021-01-16', '2021-01-17', '2021-01-18', '2021-01-19', '2021-01-20', '2021-01-21', '2021-01-22', '2021-01-23', '2021-01-24', '2021-01-25', '2021-01-26', '2021-01-27', '2021-01-28', '2021-01-29', '2021-01-30', '2021-01-31'],\n",
    "                   'value': [1, 2, 3, 4, 5, 6, 7, 8, 9, 10, 11, 12, 13, 14, 15, 16, 17, 18, 19, 20, 21, 22, 23, 24, 25, 26, 27, 28, 29, 30, 31]})\n",
    "\n",
    "# Convertire la colonna 'date' in tipo datetime\n",
    "df['date'] = pd.to_datetime(df['date'])\n",
    "\n",
    "# Raggruppare i dati per settimana e calcolare la media della colonna 'value'\n",
    "weekly_avg = df.resample('W', on='date')['value'].mean()\n",
    "\n",
    "print(weekly_avg)\n"
   ]
  },
  {
   "cell_type": "code",
   "execution_count": 19,
   "metadata": {},
   "outputs": [
    {
     "ename": "KeyError",
     "evalue": "' Professoressa'",
     "output_type": "error",
     "traceback": [
      "\u001b[1;31m---------------------------------------------------------------------------\u001b[0m",
      "\u001b[1;31mKeyError\u001b[0m                                  Traceback (most recent call last)",
      "File \u001b[1;32mc:\\Users\\ES\\AppData\\Local\\Programs\\Python\\Python312\\Lib\\site-packages\\pandas\\core\\indexes\\base.py:3802\u001b[0m, in \u001b[0;36mIndex.get_loc\u001b[1;34m(self, key)\u001b[0m\n\u001b[0;32m   3801\u001b[0m \u001b[38;5;28;01mtry\u001b[39;00m:\n\u001b[1;32m-> 3802\u001b[0m     \u001b[38;5;28;01mreturn\u001b[39;00m \u001b[38;5;28;43mself\u001b[39;49m\u001b[38;5;241;43m.\u001b[39;49m\u001b[43m_engine\u001b[49m\u001b[38;5;241;43m.\u001b[39;49m\u001b[43mget_loc\u001b[49m\u001b[43m(\u001b[49m\u001b[43mcasted_key\u001b[49m\u001b[43m)\u001b[49m\n\u001b[0;32m   3803\u001b[0m \u001b[38;5;28;01mexcept\u001b[39;00m \u001b[38;5;167;01mKeyError\u001b[39;00m \u001b[38;5;28;01mas\u001b[39;00m err:\n",
      "File \u001b[1;32mindex.pyx:153\u001b[0m, in \u001b[0;36mpandas._libs.index.IndexEngine.get_loc\u001b[1;34m()\u001b[0m\n",
      "File \u001b[1;32mindex.pyx:182\u001b[0m, in \u001b[0;36mpandas._libs.index.IndexEngine.get_loc\u001b[1;34m()\u001b[0m\n",
      "File \u001b[1;32mpandas\\\\_libs\\\\hashtable_class_helper.pxi:7081\u001b[0m, in \u001b[0;36mpandas._libs.hashtable.PyObjectHashTable.get_item\u001b[1;34m()\u001b[0m\n",
      "File \u001b[1;32mpandas\\\\_libs\\\\hashtable_class_helper.pxi:7089\u001b[0m, in \u001b[0;36mpandas._libs.hashtable.PyObjectHashTable.get_item\u001b[1;34m()\u001b[0m\n",
      "\u001b[1;31mKeyError\u001b[0m: ' Professoressa'",
      "\nThe above exception was the direct cause of the following exception:\n",
      "\u001b[1;31mKeyError\u001b[0m                                  Traceback (most recent call last)",
      "Cell \u001b[1;32mIn[19], line 1\u001b[0m\n\u001b[1;32m----> 1\u001b[0m sns\u001b[38;5;241m.\u001b[39mcountplot(x\u001b[38;5;241m=\u001b[39m\u001b[38;5;124m'\u001b[39m\u001b[38;5;124m Professoressa\u001b[39m\u001b[38;5;124m'\u001b[39m, data\u001b[38;5;241m=\u001b[39mdf, order\u001b[38;5;241m=\u001b[39m\u001b[43mdf\u001b[49m\u001b[43m[\u001b[49m\u001b[38;5;124;43m'\u001b[39;49m\u001b[38;5;124;43m Professoressa\u001b[39;49m\u001b[38;5;124;43m'\u001b[39;49m\u001b[43m]\u001b[49m\u001b[38;5;241m.\u001b[39mvalue_counts()\u001b[38;5;241m.\u001b[39msort_values(ascending\u001b[38;5;241m=\u001b[39m\u001b[38;5;28;01mTrue\u001b[39;00m)\u001b[38;5;241m.\u001b[39miloc[:\u001b[38;5;241m15\u001b[39m]\u001b[38;5;241m.\u001b[39mindex)\n",
      "File \u001b[1;32mc:\\Users\\ES\\AppData\\Local\\Programs\\Python\\Python312\\Lib\\site-packages\\pandas\\core\\frame.py:4090\u001b[0m, in \u001b[0;36mDataFrame.__getitem__\u001b[1;34m(self, key)\u001b[0m\n\u001b[0;32m   4088\u001b[0m \u001b[38;5;28;01mif\u001b[39;00m \u001b[38;5;28mself\u001b[39m\u001b[38;5;241m.\u001b[39mcolumns\u001b[38;5;241m.\u001b[39mnlevels \u001b[38;5;241m>\u001b[39m \u001b[38;5;241m1\u001b[39m:\n\u001b[0;32m   4089\u001b[0m     \u001b[38;5;28;01mreturn\u001b[39;00m \u001b[38;5;28mself\u001b[39m\u001b[38;5;241m.\u001b[39m_getitem_multilevel(key)\n\u001b[1;32m-> 4090\u001b[0m indexer \u001b[38;5;241m=\u001b[39m \u001b[38;5;28;43mself\u001b[39;49m\u001b[38;5;241;43m.\u001b[39;49m\u001b[43mcolumns\u001b[49m\u001b[38;5;241;43m.\u001b[39;49m\u001b[43mget_loc\u001b[49m\u001b[43m(\u001b[49m\u001b[43mkey\u001b[49m\u001b[43m)\u001b[49m\n\u001b[0;32m   4091\u001b[0m \u001b[38;5;28;01mif\u001b[39;00m is_integer(indexer):\n\u001b[0;32m   4092\u001b[0m     indexer \u001b[38;5;241m=\u001b[39m [indexer]\n",
      "File \u001b[1;32mc:\\Users\\ES\\AppData\\Local\\Programs\\Python\\Python312\\Lib\\site-packages\\pandas\\core\\indexes\\base.py:3809\u001b[0m, in \u001b[0;36mIndex.get_loc\u001b[1;34m(self, key)\u001b[0m\n\u001b[0;32m   3804\u001b[0m     \u001b[38;5;28;01mif\u001b[39;00m \u001b[38;5;28misinstance\u001b[39m(casted_key, \u001b[38;5;28mslice\u001b[39m) \u001b[38;5;129;01mor\u001b[39;00m (\n\u001b[0;32m   3805\u001b[0m         \u001b[38;5;28misinstance\u001b[39m(casted_key, abc\u001b[38;5;241m.\u001b[39mIterable)\n\u001b[0;32m   3806\u001b[0m         \u001b[38;5;129;01mand\u001b[39;00m \u001b[38;5;28many\u001b[39m(\u001b[38;5;28misinstance\u001b[39m(x, \u001b[38;5;28mslice\u001b[39m) \u001b[38;5;28;01mfor\u001b[39;00m x \u001b[38;5;129;01min\u001b[39;00m casted_key)\n\u001b[0;32m   3807\u001b[0m     ):\n\u001b[0;32m   3808\u001b[0m         \u001b[38;5;28;01mraise\u001b[39;00m InvalidIndexError(key)\n\u001b[1;32m-> 3809\u001b[0m     \u001b[38;5;28;01mraise\u001b[39;00m \u001b[38;5;167;01mKeyError\u001b[39;00m(key) \u001b[38;5;28;01mfrom\u001b[39;00m \u001b[38;5;21;01merr\u001b[39;00m\n\u001b[0;32m   3810\u001b[0m \u001b[38;5;28;01mexcept\u001b[39;00m \u001b[38;5;167;01mTypeError\u001b[39;00m:\n\u001b[0;32m   3811\u001b[0m     \u001b[38;5;66;03m# If we have a listlike key, _check_indexing_error will raise\u001b[39;00m\n\u001b[0;32m   3812\u001b[0m     \u001b[38;5;66;03m#  InvalidIndexError. Otherwise we fall through and re-raise\u001b[39;00m\n\u001b[0;32m   3813\u001b[0m     \u001b[38;5;66;03m#  the TypeError.\u001b[39;00m\n\u001b[0;32m   3814\u001b[0m     \u001b[38;5;28mself\u001b[39m\u001b[38;5;241m.\u001b[39m_check_indexing_error(key)\n",
      "\u001b[1;31mKeyError\u001b[0m: ' Professoressa'"
     ]
    }
   ],
   "source": [
    "sns.countplot(x=' Professoressa', data=df, order=df[' Professoressa'].value_counts().sort_values(ascending=True).iloc[:15].index)"
   ]
  },
  {
   "cell_type": "code",
   "execution_count": null,
   "metadata": {},
   "outputs": [
    {
     "name": "stderr",
     "output_type": "stream",
     "text": [
      "c:\\Users\\Soldado\\AppData\\Local\\Programs\\Python\\Python311\\Lib\\site-packages\\seaborn\\_core.py:1218: FutureWarning: is_categorical_dtype is deprecated and will be removed in a future version. Use isinstance(dtype, CategoricalDtype) instead\n",
      "  if pd.api.types.is_categorical_dtype(vector):\n",
      "c:\\Users\\Soldado\\AppData\\Local\\Programs\\Python\\Python311\\Lib\\site-packages\\seaborn\\_core.py:1218: FutureWarning: is_categorical_dtype is deprecated and will be removed in a future version. Use isinstance(dtype, CategoricalDtype) instead\n",
      "  if pd.api.types.is_categorical_dtype(vector):\n"
     ]
    },
    {
     "data": {
      "image/png": "[encoded data removed]",
      "text/plain": [
       "<Figure size 2300x800 with 1 Axes>"
      ]
     },
     "metadata": {},
     "output_type": "display_data"
    }
   ],
   "source": [
    "numero_di_barre = 15\n",
    "sns.countplot(x='Lezione', data=df, order=df['Lezione'].value_counts().iloc[:numero_di_barre].index)\n",
    "plt.savefig('Lezioni più frequenti')"
   ]
  },
  {
   "cell_type": "code",
   "execution_count": null,
   "metadata": {},
   "outputs": [
    {
     "name": "stderr",
     "output_type": "stream",
     "text": [
      "c:\\Users\\Soldado\\AppData\\Local\\Programs\\Python\\Python311\\Lib\\site-packages\\seaborn\\_core.py:1218: FutureWarning: is_categorical_dtype is deprecated and will be removed in a future version. Use isinstance(dtype, CategoricalDtype) instead\n",
      "  if pd.api.types.is_categorical_dtype(vector):\n",
      "c:\\Users\\Soldado\\AppData\\Local\\Programs\\Python\\Python311\\Lib\\site-packages\\seaborn\\_core.py:1218: FutureWarning: is_categorical_dtype is deprecated and will be removed in a future version. Use isinstance(dtype, CategoricalDtype) instead\n",
      "  if pd.api.types.is_categorical_dtype(vector):\n"
     ]
    },
    {
     "data": {
      "image/png": "[encoded data removed]",
      "text/plain": [
       "<Figure size 2300x800 with 1 Axes>"
      ]
     },
     "metadata": {},
     "output_type": "display_data"
    }
   ],
   "source": [
    "numero_di_barre = 15\n",
    "sns.countplot(x=' Data', data=df, order=df[' Data'].value_counts().iloc[:numero_di_barre].index)\n",
    "plt.savefig('Immersioni')"
   ]
  },
  {
   "cell_type": "markdown",
   "metadata": {},
   "source": [
    "# Fine"
   ]
  },
  {
   "cell_type": "code",
   "execution_count": null,
   "metadata": {},
   "outputs": [],
   "source": [
    "#df.groupby(['Mese', 'Livello'])['Index'].count().unstack().plot(figsize=[15,5]);"
   ]
  }
 ],
 "metadata": {
  "kernelspec": {
   "display_name": "Python 3",
   "language": "python",
   "name": "python3"
  },
  "language_info": {
   "codemirror_mode": {
    "name": "ipython",
    "version": 3
   },
   "file_extension": ".py",
   "mimetype": "text/x-python",
   "name": "python",
   "nbconvert_exporter": "python",
   "pygments_lexer": "ipython3",
   "version": "3.12.1"
  }
 },
 "nbformat": 4,
 "nbformat_minor": 2
}
