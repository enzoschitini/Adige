{
 "cells": [
  {
   "cell_type": "code",
   "execution_count": null,
   "metadata": {},
   "outputs": [],
   "source": [
    "import numpy as np\n",
    "import pandas as pd\n",
    "import seaborn as sns\n",
    "import matplotlib.pyplot as plt\n",
    "from datetime import datetime\n",
    "\n",
    "sns.set_theme()  \n",
    "%matplotlib inline"
   ]
  },
  {
   "cell_type": "markdown",
   "metadata": {},
   "source": [
    ",Index,Data,Ora,Professoressa,Livello,Lezione,Giorno della settimana,Mese,Anno\n",
    "0,1,22-05-2023,8,Virginia,B1,B132,Lunedì,Maggio,2023\n",
    "1,2,22-05-2023,11,Graziana,B1,B135,Lunedì,Maggio,2023"
   ]
  },
  {
   "cell_type": "markdown",
   "metadata": {},
   "source": [
    "# Dati"
   ]
  },
  {
   "cell_type": "code",
   "execution_count": null,
   "metadata": {},
   "outputs": [],
   "source": [
    "df = pd.read_csv('./Lezioni.csv')"
   ]
  },
  {
   "cell_type": "code",
   "execution_count": null,
   "metadata": {},
   "outputs": [],
   "source": [
    "#df = df[df[' Professoressa'] == ' Chiara']"
   ]
  },
  {
   "cell_type": "code",
   "execution_count": null,
   "metadata": {},
   "outputs": [],
   "source": [
    "#df = df[(df['Index'] >= 100) & (df['Index'] <= 154)]"
   ]
  },
  {
   "cell_type": "code",
   "execution_count": null,
   "metadata": {},
   "outputs": [],
   "source": [
    "righe, colonne = df.shape"
   ]
  },
  {
   "cell_type": "code",
   "execution_count": null,
   "metadata": {},
   "outputs": [],
   "source": [
    "def guia(data_frame):\n",
    "    linhas, qnt_colunas = data_frame.shape\n",
    "    sequencia = list(range(qnt_colunas + 1))\n",
    "    sequencia = sequencia[1:]\n",
    "\n",
    "    colunas = data_frame.columns.to_list()\n",
    "    lista_tipos = [str(type(data_frame[col][0])).split(\"'\")[1] for col in data_frame.columns]\n",
    "    lista_categorias = [data_frame[col].nunique() for col in data_frame.columns]\n",
    "\n",
    "    elementos_nulos = data_frame.isnull().sum()\n",
    "    elementos_nulos = elementos_nulos.to_list()\n",
    "\n",
    "    percentual_dados_nulos = round((data_frame.isnull().sum() / linhas) * 100)\n",
    "    percentual_dados_nulos = percentual_dados_nulos.to_list()\n",
    "\n",
    "    dados = pd.DataFrame({'Nome': colunas, \n",
    "                          'Tipo': lista_tipos, \n",
    "                          'qnt_categorias': lista_categorias,\n",
    "                          'Dados nulos' : elementos_nulos,\n",
    "                          'Dados nulos %' : percentual_dados_nulos}, index=sequencia)\n",
    "    \n",
    "    # Cabeçalhos\n",
    "    print('Tabela Exploratória')\n",
    "    print(f'Nesses dados temos {linhas} linhas e {qnt_colunas} colunas.')\n",
    "    \n",
    "    return dados\n",
    "\n",
    "guia_df = guia(df)\n",
    "guia_df.head(10)"
   ]
  },
  {
   "cell_type": "code",
   "execution_count": null,
   "metadata": {},
   "outputs": [],
   "source": [
    "df = df.drop('Unnamed: 0', axis=1)"
   ]
  },
  {
   "cell_type": "markdown",
   "metadata": {},
   "source": [
    "# Tabella"
   ]
  },
  {
   "cell_type": "code",
   "execution_count": null,
   "metadata": {},
   "outputs": [],
   "source": [
    "df.head()"
   ]
  },
  {
   "cell_type": "code",
   "execution_count": null,
   "metadata": {},
   "outputs": [],
   "source": [
    "def data_finiziale_finale(dat_frame, dfi):\n",
    "    if dfi == 0:\n",
    "        dt_iniziale = dat_frame.head(1)\n",
    "        dt_iniziale = dt_iniziale['Data'].to_list()\n",
    "        dt_iniziale = dt_iniziale[0]\n",
    "        \n",
    "        return dt_iniziale\n",
    "    \n",
    "    elif dfi == 1:\n",
    "        dt_finale = dat_frame.tail(1)\n",
    "        dt_finale = dt_finale['Data'].to_list()\n",
    "        dt_finale = dt_finale[0]\n",
    "\n",
    "        return dt_finale"
   ]
  },
  {
   "cell_type": "markdown",
   "metadata": {},
   "source": [
    "# Durata"
   ]
  },
  {
   "cell_type": "code",
   "execution_count": null,
   "metadata": {},
   "outputs": [],
   "source": [
    "# Definisci le date\n",
    "\n",
    "data1 = datetime.strptime(data_finiziale_finale(df, 0), '%d-%m-%Y')\n",
    "data2 = datetime.strptime(data_finiziale_finale(df, 1), '%d-%m-%Y')\n",
    "\n",
    "# Calcola la differenza tra le date\n",
    "diff = data2 - data1\n",
    "\n",
    "print(f\"Il numero di giorni tra il {data_finiziale_finale(df, 0)} e il {data_finiziale_finale(df, 1)} è {diff.days}.\")"
   ]
  },
  {
   "cell_type": "code",
   "execution_count": null,
   "metadata": {},
   "outputs": [],
   "source": [
    "df_categoricos = df.select_dtypes('object')\n",
    "df_categoricos"
   ]
  },
  {
   "cell_type": "code",
   "execution_count": null,
   "metadata": {},
   "outputs": [],
   "source": [
    "df_categoricos.describe().transpose() # freq / count = %"
   ]
  },
  {
   "cell_type": "code",
   "execution_count": null,
   "metadata": {},
   "outputs": [],
   "source": [
    "df_numericos = df.select_dtypes('number')\n",
    "df_numericos.drop('Index', axis=1).select_dtypes('number').describe().transpose()"
   ]
  },
  {
   "cell_type": "code",
   "execution_count": null,
   "metadata": {},
   "outputs": [],
   "source": [
    "189 / 219"
   ]
  },
  {
   "cell_type": "code",
   "execution_count": null,
   "metadata": {},
   "outputs": [],
   "source": [
    "df.columns"
   ]
  },
  {
   "cell_type": "code",
   "execution_count": null,
   "metadata": {},
   "outputs": [],
   "source": [
    "plt.close('all')\n",
    "plt.rc('figure', figsize=(23, 8))\n",
    "fig, axes = plt.subplots(2, 2)\n",
    "\n",
    "sns.countplot(ax = axes[0, 0], x='Ora', data=df)\n",
    "sns.countplot(ax = axes[0, 1], x='Livello', data=df)\n",
    "sns.countplot(ax = axes[1, 0], x='Mese', data=df)\n",
    "sns.countplot(ax = axes[1, 1], x='Giorno della settimana', data=df)\n",
    "\n",
    "plt.savefig('Grafici')"
   ]
  },
  {
   "cell_type": "markdown",
   "metadata": {},
   "source": [
    "# Grafici"
   ]
  },
  {
   "cell_type": "code",
   "execution_count": null,
   "metadata": {},
   "outputs": [],
   "source": [
    "numero_di_barre = 15\n",
    "sns.countplot(x='Professoressa', data=df, order=df['Professoressa'].value_counts().iloc[:numero_di_barre].index)\n",
    "plt.savefig('Insegnanti')"
   ]
  },
  {
   "cell_type": "code",
   "execution_count": null,
   "metadata": {},
   "outputs": [],
   "source": [
    "import pandas as pd\n",
    "\n",
    "# Creare un dataframe di esempio\n",
    "df = pd.DataFrame({'date': ['2021-01-01', '2021-01-02', '2021-01-03', '2021-01-04', '2021-01-05', '2021-01-06', '2021-01-07', '2021-01-08', '2021-01-09', '2021-01-10', '2021-01-11', '2021-01-12', '2021-01-13', '2021-01-14', '2021-01-15', '2021-01-16', '2021-01-17', '2021-01-18', '2021-01-19', '2021-01-20', '2021-01-21', '2021-01-22', '2021-01-23', '2021-01-24', '2021-01-25', '2021-01-26', '2021-01-27', '2021-01-28', '2021-01-29', '2021-01-30', '2021-01-31'],\n",
    "                   'value': [1, 2, 3, 4, 5, 6, 7, 8, 9, 10, 11, 12, 13, 14, 15, 16, 17, 18, 19, 20, 21, 22, 23, 24, 25, 26, 27, 28, 29, 30, 31]})\n",
    "\n",
    "# Convertire la colonna 'date' in tipo datetime\n",
    "df['date'] = pd.to_datetime(df['date'])\n",
    "\n",
    "# Raggruppare i dati per settimana e calcolare la media della colonna 'value'\n",
    "weekly_avg = df.resample('W', on='date')['value'].mean()\n",
    "\n",
    "print(weekly_avg)\n"
   ]
  },
  {
   "cell_type": "code",
   "execution_count": null,
   "metadata": {},
   "outputs": [],
   "source": [
    "sns.countplot(x='Professoressa', data=df, order=df['Professoressa'].value_counts().sort_values(ascending=True).iloc[:15].index)"
   ]
  },
  {
   "cell_type": "code",
   "execution_count": null,
   "metadata": {},
   "outputs": [],
   "source": [
    "numero_di_barre = 15\n",
    "sns.countplot(x='Lezione', data=df, order=df['Lezione'].value_counts().iloc[:numero_di_barre].index)\n",
    "plt.savefig('Lezioni più frequenti')"
   ]
  },
  {
   "cell_type": "code",
   "execution_count": null,
   "metadata": {},
   "outputs": [],
   "source": [
    "numero_di_barre = 15\n",
    "sns.countplot(x='Data', data=df, order=df['Data'].value_counts().iloc[:numero_di_barre].index)\n",
    "plt.savefig('Immersioni')"
   ]
  },
  {
   "cell_type": "markdown",
   "metadata": {},
   "source": [
    "# Fine"
   ]
  },
  {
   "cell_type": "code",
   "execution_count": null,
   "metadata": {},
   "outputs": [],
   "source": [
    "#df.groupby(['Mese', 'Livello'])['Index'].count().unstack().plot(figsize=[15,5]);"
   ]
  }
 ],
 "metadata": {
  "kernelspec": {
   "display_name": "Python 3",
   "language": "python",
   "name": "python3"
  },
  "language_info": {
   "codemirror_mode": {
    "name": "ipython",
    "version": 3
   },
   "file_extension": ".py",
   "mimetype": "text/x-python",
   "name": "python",
   "nbconvert_exporter": "python",
   "pygments_lexer": "ipython3",
   "version": "3.11.5"
  }
 },
 "nbformat": 4,
 "nbformat_minor": 2
}
