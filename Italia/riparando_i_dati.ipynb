{
 "cells": [
  {
   "cell_type": "code",
   "execution_count": 1,
   "metadata": {},
   "outputs": [],
   "source": [
    "import pandas as pd"
   ]
  },
  {
   "cell_type": "code",
   "execution_count": 2,
   "metadata": {},
   "outputs": [
    {
     "data": {
      "text/html": [
       "<div>\n",
       "<style scoped>\n",
       "    .dataframe tbody tr th:only-of-type {\n",
       "        vertical-align: middle;\n",
       "    }\n",
       "\n",
       "    .dataframe tbody tr th {\n",
       "        vertical-align: top;\n",
       "    }\n",
       "\n",
       "    .dataframe thead th {\n",
       "        text-align: right;\n",
       "    }\n",
       "</style>\n",
       "<table border=\"1\" class=\"dataframe\">\n",
       "  <thead>\n",
       "    <tr style=\"text-align: right;\">\n",
       "      <th></th>\n",
       "      <th>Ora</th>\n",
       "      <th>Data</th>\n",
       "      <th>Slide</th>\n",
       "      <th>Professorassa</th>\n",
       "    </tr>\n",
       "  </thead>\n",
       "  <tbody>\n",
       "    <tr>\n",
       "      <th>0</th>\n",
       "      <td>8</td>\n",
       "      <td>2205</td>\n",
       "      <td>B132</td>\n",
       "      <td>Virginia</td>\n",
       "    </tr>\n",
       "    <tr>\n",
       "      <th>1</th>\n",
       "      <td>11</td>\n",
       "      <td>2205</td>\n",
       "      <td>B135</td>\n",
       "      <td>Graziana</td>\n",
       "    </tr>\n",
       "    <tr>\n",
       "      <th>2</th>\n",
       "      <td>10</td>\n",
       "      <td>2305</td>\n",
       "      <td>C123</td>\n",
       "      <td>Francesca</td>\n",
       "    </tr>\n",
       "    <tr>\n",
       "      <th>3</th>\n",
       "      <td>11</td>\n",
       "      <td>2305</td>\n",
       "      <td>B143</td>\n",
       "      <td>Sara</td>\n",
       "    </tr>\n",
       "    <tr>\n",
       "      <th>4</th>\n",
       "      <td>10</td>\n",
       "      <td>2405</td>\n",
       "      <td>B141</td>\n",
       "      <td>Alice</td>\n",
       "    </tr>\n",
       "  </tbody>\n",
       "</table>\n",
       "</div>"
      ],
      "text/plain": [
       "   Ora   Data  Slide  Professorassa\n",
       "0    8   2205   B132       Virginia\n",
       "1   11   2205   B135       Graziana\n",
       "2   10   2305   C123      Francesca\n",
       "3   11   2305   B143           Sara\n",
       "4   10   2405   B141          Alice"
      ]
     },
     "execution_count": 2,
     "metadata": {},
     "output_type": "execute_result"
    }
   ],
   "source": [
    "df = pd.read_csv('Data.csv')\n",
    "df.head()"
   ]
  },
  {
   "cell_type": "code",
   "execution_count": 3,
   "metadata": {},
   "outputs": [
    {
     "data": {
      "text/plain": [
       "Ora                int64\n",
       " Data              int64\n",
       " Slide            object\n",
       " Professorassa    object\n",
       "dtype: object"
      ]
     },
     "execution_count": 3,
     "metadata": {},
     "output_type": "execute_result"
    }
   ],
   "source": [
    "df.dtypes"
   ]
  },
  {
   "cell_type": "code",
   "execution_count": 4,
   "metadata": {},
   "outputs": [],
   "source": [
    "df[' Data'] = pd.to_datetime(df[' Data'].astype(str), format='%d%m').dt.strftime('%d-%m-2023')"
   ]
  },
  {
   "cell_type": "code",
   "execution_count": 5,
   "metadata": {},
   "outputs": [],
   "source": [
    "df['Livello'] = df[' Slide'].str[:3]\n",
    "df['Lezione'] = df[' Slide'].str[0:5]"
   ]
  },
  {
   "cell_type": "code",
   "execution_count": 6,
   "metadata": {},
   "outputs": [],
   "source": [
    "df = df.drop(' Slide', axis=1)"
   ]
  },
  {
   "cell_type": "code",
   "execution_count": 7,
   "metadata": {},
   "outputs": [
    {
     "data": {
      "text/plain": [
       "Index(['Ora', ' Data', ' Professorassa', 'Livello', 'Lezione'], dtype='object')"
      ]
     },
     "execution_count": 7,
     "metadata": {},
     "output_type": "execute_result"
    }
   ],
   "source": [
    "df.columns"
   ]
  },
  {
   "cell_type": "code",
   "execution_count": 8,
   "metadata": {},
   "outputs": [
    {
     "data": {
      "text/html": [
       "<div>\n",
       "<style scoped>\n",
       "    .dataframe tbody tr th:only-of-type {\n",
       "        vertical-align: middle;\n",
       "    }\n",
       "\n",
       "    .dataframe tbody tr th {\n",
       "        vertical-align: top;\n",
       "    }\n",
       "\n",
       "    .dataframe thead th {\n",
       "        text-align: right;\n",
       "    }\n",
       "</style>\n",
       "<table border=\"1\" class=\"dataframe\">\n",
       "  <thead>\n",
       "    <tr style=\"text-align: right;\">\n",
       "      <th></th>\n",
       "      <th>Ora</th>\n",
       "      <th>Data</th>\n",
       "      <th>Professorassa</th>\n",
       "      <th>Livello</th>\n",
       "      <th>Lezione</th>\n",
       "    </tr>\n",
       "  </thead>\n",
       "  <tbody>\n",
       "    <tr>\n",
       "      <th>0</th>\n",
       "      <td>8</td>\n",
       "      <td>22-05-2023</td>\n",
       "      <td>Virginia</td>\n",
       "      <td>B1</td>\n",
       "      <td>B132</td>\n",
       "    </tr>\n",
       "    <tr>\n",
       "      <th>1</th>\n",
       "      <td>11</td>\n",
       "      <td>22-05-2023</td>\n",
       "      <td>Graziana</td>\n",
       "      <td>B1</td>\n",
       "      <td>B135</td>\n",
       "    </tr>\n",
       "    <tr>\n",
       "      <th>2</th>\n",
       "      <td>10</td>\n",
       "      <td>23-05-2023</td>\n",
       "      <td>Francesca</td>\n",
       "      <td>C1</td>\n",
       "      <td>C123</td>\n",
       "    </tr>\n",
       "    <tr>\n",
       "      <th>3</th>\n",
       "      <td>11</td>\n",
       "      <td>23-05-2023</td>\n",
       "      <td>Sara</td>\n",
       "      <td>B1</td>\n",
       "      <td>B143</td>\n",
       "    </tr>\n",
       "    <tr>\n",
       "      <th>4</th>\n",
       "      <td>10</td>\n",
       "      <td>24-05-2023</td>\n",
       "      <td>Alice</td>\n",
       "      <td>B1</td>\n",
       "      <td>B141</td>\n",
       "    </tr>\n",
       "  </tbody>\n",
       "</table>\n",
       "</div>"
      ],
      "text/plain": [
       "   Ora        Data  Professorassa Livello Lezione\n",
       "0    8  22-05-2023       Virginia      B1    B132\n",
       "1   11  22-05-2023       Graziana      B1    B135\n",
       "2   10  23-05-2023      Francesca      C1    C123\n",
       "3   11  23-05-2023           Sara      B1    B143\n",
       "4   10  24-05-2023          Alice      B1    B141"
      ]
     },
     "execution_count": 8,
     "metadata": {},
     "output_type": "execute_result"
    }
   ],
   "source": [
    "df.head()"
   ]
  },
  {
   "cell_type": "code",
   "execution_count": 9,
   "metadata": {},
   "outputs": [],
   "source": [
    "def mese(valore):\n",
    "    valore = list(valore)\n",
    "    mese = str(valore[3] + valore[4])\n",
    "    return mese\n",
    "\n",
    "def giorno(valore):\n",
    "    valore = list(valore)\n",
    "    giorno = str(valore[0] + valore[1])\n",
    "    return giorno"
   ]
  },
  {
   "cell_type": "code",
   "execution_count": 10,
   "metadata": {},
   "outputs": [
    {
     "data": {
      "text/plain": [
       "'05'"
      ]
     },
     "execution_count": 10,
     "metadata": {},
     "output_type": "execute_result"
    }
   ],
   "source": [
    "mese('22-05-2023')"
   ]
  },
  {
   "cell_type": "code",
   "execution_count": 11,
   "metadata": {},
   "outputs": [
    {
     "data": {
      "text/plain": [
       "'22'"
      ]
     },
     "execution_count": 11,
     "metadata": {},
     "output_type": "execute_result"
    }
   ],
   "source": [
    "giorno('22-05-2023')"
   ]
  },
  {
   "cell_type": "code",
   "execution_count": 12,
   "metadata": {},
   "outputs": [],
   "source": [
    "#df[' Mese'] = df[' Data'].apply(mese)"
   ]
  },
  {
   "cell_type": "code",
   "execution_count": 13,
   "metadata": {},
   "outputs": [],
   "source": [
    "df[' Data'] = pd.to_datetime(df[' Data'], format='%d-%m-%Y')"
   ]
  },
  {
   "cell_type": "code",
   "execution_count": 14,
   "metadata": {},
   "outputs": [],
   "source": [
    "df['Giorno della settimana'] = df[' Data'].dt.day_name()\n",
    "df['Mese'] = df[' Data'].dt.month_name()\n",
    "df['Anno'] = df[' Data'].dt.year"
   ]
  },
  {
   "cell_type": "code",
   "execution_count": 15,
   "metadata": {},
   "outputs": [],
   "source": [
    "mapping_day = {\"Monday\": \"Lunedì\", \n",
    "           \"Tuesday\": \"Martedì\", \n",
    "           \"Wednesday\": \"Mercoledì\",\n",
    "           \"Thursday\": \"Giovedì\",\n",
    "           \"Friday\": \"Venerdì\",\n",
    "           \"Saturday\": \"Sabato\",\n",
    "           \"Sunday\": \"Domenica\"}\n",
    "\n",
    "mapping_month = {\"January\": \"Gennaio\",\n",
    "                 \"February\": \"Febbraio\",\n",
    "                 \"March\": \"Marzo\",\n",
    "                 \"April\": \"Abrile\",\n",
    "                 \"May\": \"Maggio\", \n",
    "                 \"June\": \"Giugno\", \n",
    "                 \"July\": \"Luglio\",\n",
    "                 \"August\": \"Agosto\",\n",
    "                 \"September\": \"Settembre\",\n",
    "                 \"October\": \"Ottobre\",\n",
    "                 \"November\": \"Novembre\",\n",
    "                 \"December\": \"Dicembre\"}\n",
    "\n",
    "df[\"Giorno della settimana\"] = df[\"Giorno della settimana\"].replace(mapping_day)\n",
    "df[\"Mese\"] = df[\"Mese\"].replace(mapping_month)"
   ]
  },
  {
   "cell_type": "code",
   "execution_count": 16,
   "metadata": {},
   "outputs": [
    {
     "data": {
      "text/plain": [
       "array(['Maggio', 'Giugno', 'Luglio', 'Agosto', 'Settembre', 'Ottobre',\n",
       "       'Gennaio', 'Novembre', 'Dicembre'], dtype=object)"
      ]
     },
     "execution_count": 16,
     "metadata": {},
     "output_type": "execute_result"
    }
   ],
   "source": [
    "df['Mese'].unique()"
   ]
  },
  {
   "cell_type": "code",
   "execution_count": 17,
   "metadata": {},
   "outputs": [],
   "source": [
    "#df.set_index(' Data', inplace=True)"
   ]
  },
  {
   "cell_type": "code",
   "execution_count": 18,
   "metadata": {},
   "outputs": [],
   "source": [
    "righe, _ = df.shape"
   ]
  },
  {
   "cell_type": "code",
   "execution_count": 19,
   "metadata": {},
   "outputs": [
    {
     "name": "stdout",
     "output_type": "stream",
     "text": [
      "[1, 2, 3, 4, 5, 6, 7, 8, 9, 10, 11, 12, 13, 14, 15, 16, 17, 18, 19, 20, 21, 22, 23, 24, 25, 26, 27, 28, 29, 30, 31, 32, 33, 34, 35, 36, 37, 38, 39, 40, 41, 42, 43, 44, 45, 46, 47, 48, 49, 50, 51, 52, 53, 54, 55, 56, 57, 58, 59, 60, 61, 62, 63, 64, 65, 66, 67, 68, 69, 70, 71, 72, 73, 74, 75, 76, 77, 78, 79, 80, 81, 82, 83, 84, 85, 86, 87, 88, 89, 90, 91, 92, 93, 94, 95, 96, 97, 98, 99, 100, 101, 102, 103, 104, 105, 106, 107, 108, 109, 110, 111, 112, 113, 114, 115, 116, 117, 118, 119, 120, 121, 122, 123, 124, 125, 126, 127, 128, 129, 130, 131, 132, 133, 134, 135, 136, 137, 138, 139, 140, 141, 142, 143, 144, 145, 146, 147, 148, 149, 150, 151, 152, 153, 154, 155, 156, 157, 158, 159, 160, 161, 162, 163, 164, 165, 166, 167, 168, 169, 170, 171, 172, 173, 174, 175, 176, 177, 178, 179, 180, 181, 182, 183, 184, 185, 186, 187, 188, 189]\n"
     ]
    }
   ],
   "source": [
    "ordine = 0\n",
    "lista = []\n",
    "\n",
    "for x in range(righe):\n",
    "    ordine += 1\n",
    "    lista.append(ordine)\n",
    "\n",
    "print(lista)"
   ]
  },
  {
   "cell_type": "code",
   "execution_count": 20,
   "metadata": {},
   "outputs": [],
   "source": [
    "# Aggiunta di una nuova colonna con l'indice\n",
    "df['Index'] = lista"
   ]
  },
  {
   "cell_type": "code",
   "execution_count": 21,
   "metadata": {},
   "outputs": [],
   "source": [
    "df = df[['Index', ' Data', 'Ora', ' Professorassa', 'Livello', 'Lezione',\n",
    "       'Giorno della settimana', 'Mese', 'Anno']]"
   ]
  },
  {
   "cell_type": "code",
   "execution_count": 22,
   "metadata": {},
   "outputs": [
    {
     "data": {
      "text/html": [
       "<div>\n",
       "<style scoped>\n",
       "    .dataframe tbody tr th:only-of-type {\n",
       "        vertical-align: middle;\n",
       "    }\n",
       "\n",
       "    .dataframe tbody tr th {\n",
       "        vertical-align: top;\n",
       "    }\n",
       "\n",
       "    .dataframe thead th {\n",
       "        text-align: right;\n",
       "    }\n",
       "</style>\n",
       "<table border=\"1\" class=\"dataframe\">\n",
       "  <thead>\n",
       "    <tr style=\"text-align: right;\">\n",
       "      <th></th>\n",
       "      <th>Index</th>\n",
       "      <th>Data</th>\n",
       "      <th>Ora</th>\n",
       "      <th>Professorassa</th>\n",
       "      <th>Livello</th>\n",
       "      <th>Lezione</th>\n",
       "      <th>Giorno della settimana</th>\n",
       "      <th>Mese</th>\n",
       "      <th>Anno</th>\n",
       "    </tr>\n",
       "  </thead>\n",
       "  <tbody>\n",
       "    <tr>\n",
       "      <th>0</th>\n",
       "      <td>1</td>\n",
       "      <td>2023-05-22</td>\n",
       "      <td>8</td>\n",
       "      <td>Virginia</td>\n",
       "      <td>B1</td>\n",
       "      <td>B132</td>\n",
       "      <td>Lunedì</td>\n",
       "      <td>Maggio</td>\n",
       "      <td>2023</td>\n",
       "    </tr>\n",
       "    <tr>\n",
       "      <th>1</th>\n",
       "      <td>2</td>\n",
       "      <td>2023-05-22</td>\n",
       "      <td>11</td>\n",
       "      <td>Graziana</td>\n",
       "      <td>B1</td>\n",
       "      <td>B135</td>\n",
       "      <td>Lunedì</td>\n",
       "      <td>Maggio</td>\n",
       "      <td>2023</td>\n",
       "    </tr>\n",
       "    <tr>\n",
       "      <th>2</th>\n",
       "      <td>3</td>\n",
       "      <td>2023-05-23</td>\n",
       "      <td>10</td>\n",
       "      <td>Francesca</td>\n",
       "      <td>C1</td>\n",
       "      <td>C123</td>\n",
       "      <td>Martedì</td>\n",
       "      <td>Maggio</td>\n",
       "      <td>2023</td>\n",
       "    </tr>\n",
       "    <tr>\n",
       "      <th>3</th>\n",
       "      <td>4</td>\n",
       "      <td>2023-05-23</td>\n",
       "      <td>11</td>\n",
       "      <td>Sara</td>\n",
       "      <td>B1</td>\n",
       "      <td>B143</td>\n",
       "      <td>Martedì</td>\n",
       "      <td>Maggio</td>\n",
       "      <td>2023</td>\n",
       "    </tr>\n",
       "    <tr>\n",
       "      <th>4</th>\n",
       "      <td>5</td>\n",
       "      <td>2023-05-24</td>\n",
       "      <td>10</td>\n",
       "      <td>Alice</td>\n",
       "      <td>B1</td>\n",
       "      <td>B141</td>\n",
       "      <td>Mercoledì</td>\n",
       "      <td>Maggio</td>\n",
       "      <td>2023</td>\n",
       "    </tr>\n",
       "  </tbody>\n",
       "</table>\n",
       "</div>"
      ],
      "text/plain": [
       "   Index       Data  Ora  Professorassa Livello Lezione  \\\n",
       "0      1 2023-05-22    8       Virginia      B1    B132   \n",
       "1      2 2023-05-22   11       Graziana      B1    B135   \n",
       "2      3 2023-05-23   10      Francesca      C1    C123   \n",
       "3      4 2023-05-23   11           Sara      B1    B143   \n",
       "4      5 2023-05-24   10          Alice      B1    B141   \n",
       "\n",
       "  Giorno della settimana    Mese  Anno  \n",
       "0                 Lunedì  Maggio  2023  \n",
       "1                 Lunedì  Maggio  2023  \n",
       "2                Martedì  Maggio  2023  \n",
       "3                Martedì  Maggio  2023  \n",
       "4              Mercoledì  Maggio  2023  "
      ]
     },
     "execution_count": 22,
     "metadata": {},
     "output_type": "execute_result"
    }
   ],
   "source": [
    "df.head()"
   ]
  },
  {
   "cell_type": "code",
   "execution_count": 23,
   "metadata": {},
   "outputs": [
    {
     "data": {
      "text/html": [
       "<div>\n",
       "<style scoped>\n",
       "    .dataframe tbody tr th:only-of-type {\n",
       "        vertical-align: middle;\n",
       "    }\n",
       "\n",
       "    .dataframe tbody tr th {\n",
       "        vertical-align: top;\n",
       "    }\n",
       "\n",
       "    .dataframe thead th {\n",
       "        text-align: right;\n",
       "    }\n",
       "</style>\n",
       "<table border=\"1\" class=\"dataframe\">\n",
       "  <thead>\n",
       "    <tr style=\"text-align: right;\">\n",
       "      <th></th>\n",
       "      <th>Index</th>\n",
       "      <th>Data</th>\n",
       "      <th>Ora</th>\n",
       "      <th>Professorassa</th>\n",
       "      <th>Livello</th>\n",
       "      <th>Lezione</th>\n",
       "      <th>Giorno della settimana</th>\n",
       "      <th>Mese</th>\n",
       "      <th>Anno</th>\n",
       "    </tr>\n",
       "  </thead>\n",
       "  <tbody>\n",
       "    <tr>\n",
       "      <th>184</th>\n",
       "      <td>185</td>\n",
       "      <td>2023-12-12</td>\n",
       "      <td>7</td>\n",
       "      <td>Lorella</td>\n",
       "      <td>C1</td>\n",
       "      <td>C132</td>\n",
       "      <td>Martedì</td>\n",
       "      <td>Dicembre</td>\n",
       "      <td>2023</td>\n",
       "    </tr>\n",
       "    <tr>\n",
       "      <th>185</th>\n",
       "      <td>186</td>\n",
       "      <td>2023-12-13</td>\n",
       "      <td>7</td>\n",
       "      <td>Federica</td>\n",
       "      <td>B2</td>\n",
       "      <td>B210</td>\n",
       "      <td>Mercoledì</td>\n",
       "      <td>Dicembre</td>\n",
       "      <td>2023</td>\n",
       "    </tr>\n",
       "    <tr>\n",
       "      <th>186</th>\n",
       "      <td>187</td>\n",
       "      <td>2023-12-14</td>\n",
       "      <td>10</td>\n",
       "      <td>Francesca 2</td>\n",
       "      <td>B2</td>\n",
       "      <td>B235</td>\n",
       "      <td>Giovedì</td>\n",
       "      <td>Dicembre</td>\n",
       "      <td>2023</td>\n",
       "    </tr>\n",
       "    <tr>\n",
       "      <th>187</th>\n",
       "      <td>188</td>\n",
       "      <td>2023-12-15</td>\n",
       "      <td>7</td>\n",
       "      <td>Chiara</td>\n",
       "      <td>C1</td>\n",
       "      <td>C101</td>\n",
       "      <td>Venerdì</td>\n",
       "      <td>Dicembre</td>\n",
       "      <td>2023</td>\n",
       "    </tr>\n",
       "    <tr>\n",
       "      <th>188</th>\n",
       "      <td>189</td>\n",
       "      <td>2023-12-27</td>\n",
       "      <td>7</td>\n",
       "      <td>Chiara</td>\n",
       "      <td>C1</td>\n",
       "      <td>C124</td>\n",
       "      <td>Mercoledì</td>\n",
       "      <td>Dicembre</td>\n",
       "      <td>2023</td>\n",
       "    </tr>\n",
       "  </tbody>\n",
       "</table>\n",
       "</div>"
      ],
      "text/plain": [
       "     Index       Data  Ora  Professorassa Livello Lezione  \\\n",
       "184    185 2023-12-12    7        Lorella      C1    C132   \n",
       "185    186 2023-12-13    7       Federica      B2    B210   \n",
       "186    187 2023-12-14   10    Francesca 2      B2    B235   \n",
       "187    188 2023-12-15    7         Chiara      C1    C101   \n",
       "188    189 2023-12-27    7         Chiara      C1    C124   \n",
       "\n",
       "    Giorno della settimana      Mese  Anno  \n",
       "184                Martedì  Dicembre  2023  \n",
       "185              Mercoledì  Dicembre  2023  \n",
       "186                Giovedì  Dicembre  2023  \n",
       "187                Venerdì  Dicembre  2023  \n",
       "188              Mercoledì  Dicembre  2023  "
      ]
     },
     "execution_count": 23,
     "metadata": {},
     "output_type": "execute_result"
    }
   ],
   "source": [
    "df.tail()"
   ]
  },
  {
   "cell_type": "code",
   "execution_count": 24,
   "metadata": {},
   "outputs": [
    {
     "data": {
      "text/plain": [
       "array(['Maggio', 'Giugno', 'Luglio', 'Agosto', 'Settembre', 'Ottobre',\n",
       "       'Gennaio', 'Novembre', 'Dicembre'], dtype=object)"
      ]
     },
     "execution_count": 24,
     "metadata": {},
     "output_type": "execute_result"
    }
   ],
   "source": [
    "df.Mese.unique()"
   ]
  },
  {
   "cell_type": "code",
   "execution_count": 25,
   "metadata": {},
   "outputs": [
    {
     "data": {
      "text/html": [
       "<div>\n",
       "<style scoped>\n",
       "    .dataframe tbody tr th:only-of-type {\n",
       "        vertical-align: middle;\n",
       "    }\n",
       "\n",
       "    .dataframe tbody tr th {\n",
       "        vertical-align: top;\n",
       "    }\n",
       "\n",
       "    .dataframe thead th {\n",
       "        text-align: right;\n",
       "    }\n",
       "</style>\n",
       "<table border=\"1\" class=\"dataframe\">\n",
       "  <thead>\n",
       "    <tr style=\"text-align: right;\">\n",
       "      <th></th>\n",
       "      <th>Index</th>\n",
       "      <th>Data</th>\n",
       "      <th>Ora</th>\n",
       "      <th>Professorassa</th>\n",
       "      <th>Livello</th>\n",
       "      <th>Lezione</th>\n",
       "      <th>Giorno della settimana</th>\n",
       "      <th>Mese</th>\n",
       "      <th>Anno</th>\n",
       "    </tr>\n",
       "  </thead>\n",
       "  <tbody>\n",
       "  </tbody>\n",
       "</table>\n",
       "</div>"
      ],
      "text/plain": [
       "Empty DataFrame\n",
       "Columns: [Index,  Data, Ora,  Professorassa, Livello, Lezione, Giorno della settimana, Mese, Anno]\n",
       "Index: []"
      ]
     },
     "execution_count": 25,
     "metadata": {},
     "output_type": "execute_result"
    }
   ],
   "source": [
    "df_mese = df[df['Mese'] == 'February']\n",
    "df_mese"
   ]
  },
  {
   "cell_type": "code",
   "execution_count": 26,
   "metadata": {},
   "outputs": [
    {
     "data": {
      "text/html": [
       "<div>\n",
       "<style scoped>\n",
       "    .dataframe tbody tr th:only-of-type {\n",
       "        vertical-align: middle;\n",
       "    }\n",
       "\n",
       "    .dataframe tbody tr th {\n",
       "        vertical-align: top;\n",
       "    }\n",
       "\n",
       "    .dataframe thead th {\n",
       "        text-align: right;\n",
       "    }\n",
       "</style>\n",
       "<table border=\"1\" class=\"dataframe\">\n",
       "  <thead>\n",
       "    <tr style=\"text-align: right;\">\n",
       "      <th></th>\n",
       "      <th>Index</th>\n",
       "      <th>Data</th>\n",
       "      <th>Ora</th>\n",
       "      <th>Professorassa</th>\n",
       "      <th>Livello</th>\n",
       "      <th>Lezione</th>\n",
       "      <th>Giorno della settimana</th>\n",
       "      <th>Mese</th>\n",
       "      <th>Anno</th>\n",
       "    </tr>\n",
       "  </thead>\n",
       "  <tbody>\n",
       "    <tr>\n",
       "      <th>178</th>\n",
       "      <td>179</td>\n",
       "      <td>2023-12-05</td>\n",
       "      <td>7</td>\n",
       "      <td>Lorella</td>\n",
       "      <td>C1</td>\n",
       "      <td>C102</td>\n",
       "      <td>Martedì</td>\n",
       "      <td>Dicembre</td>\n",
       "      <td>2023</td>\n",
       "    </tr>\n",
       "    <tr>\n",
       "      <th>179</th>\n",
       "      <td>180</td>\n",
       "      <td>2023-12-05</td>\n",
       "      <td>9</td>\n",
       "      <td>Anna</td>\n",
       "      <td>B2</td>\n",
       "      <td>B214</td>\n",
       "      <td>Martedì</td>\n",
       "      <td>Dicembre</td>\n",
       "      <td>2023</td>\n",
       "    </tr>\n",
       "    <tr>\n",
       "      <th>180</th>\n",
       "      <td>181</td>\n",
       "      <td>2023-12-06</td>\n",
       "      <td>7</td>\n",
       "      <td>Federica</td>\n",
       "      <td>C1</td>\n",
       "      <td>C128</td>\n",
       "      <td>Mercoledì</td>\n",
       "      <td>Dicembre</td>\n",
       "      <td>2023</td>\n",
       "    </tr>\n",
       "    <tr>\n",
       "      <th>181</th>\n",
       "      <td>182</td>\n",
       "      <td>2023-12-06</td>\n",
       "      <td>11</td>\n",
       "      <td>Graziana</td>\n",
       "      <td>C1</td>\n",
       "      <td>C102</td>\n",
       "      <td>Mercoledì</td>\n",
       "      <td>Dicembre</td>\n",
       "      <td>2023</td>\n",
       "    </tr>\n",
       "    <tr>\n",
       "      <th>182</th>\n",
       "      <td>183</td>\n",
       "      <td>2023-12-07</td>\n",
       "      <td>7</td>\n",
       "      <td>Marina</td>\n",
       "      <td>C1</td>\n",
       "      <td>C134</td>\n",
       "      <td>Giovedì</td>\n",
       "      <td>Dicembre</td>\n",
       "      <td>2023</td>\n",
       "    </tr>\n",
       "    <tr>\n",
       "      <th>183</th>\n",
       "      <td>184</td>\n",
       "      <td>2023-12-08</td>\n",
       "      <td>8</td>\n",
       "      <td>Federica</td>\n",
       "      <td>C1</td>\n",
       "      <td>C123</td>\n",
       "      <td>Venerdì</td>\n",
       "      <td>Dicembre</td>\n",
       "      <td>2023</td>\n",
       "    </tr>\n",
       "    <tr>\n",
       "      <th>184</th>\n",
       "      <td>185</td>\n",
       "      <td>2023-12-12</td>\n",
       "      <td>7</td>\n",
       "      <td>Lorella</td>\n",
       "      <td>C1</td>\n",
       "      <td>C132</td>\n",
       "      <td>Martedì</td>\n",
       "      <td>Dicembre</td>\n",
       "      <td>2023</td>\n",
       "    </tr>\n",
       "    <tr>\n",
       "      <th>185</th>\n",
       "      <td>186</td>\n",
       "      <td>2023-12-13</td>\n",
       "      <td>7</td>\n",
       "      <td>Federica</td>\n",
       "      <td>B2</td>\n",
       "      <td>B210</td>\n",
       "      <td>Mercoledì</td>\n",
       "      <td>Dicembre</td>\n",
       "      <td>2023</td>\n",
       "    </tr>\n",
       "    <tr>\n",
       "      <th>186</th>\n",
       "      <td>187</td>\n",
       "      <td>2023-12-14</td>\n",
       "      <td>10</td>\n",
       "      <td>Francesca 2</td>\n",
       "      <td>B2</td>\n",
       "      <td>B235</td>\n",
       "      <td>Giovedì</td>\n",
       "      <td>Dicembre</td>\n",
       "      <td>2023</td>\n",
       "    </tr>\n",
       "    <tr>\n",
       "      <th>187</th>\n",
       "      <td>188</td>\n",
       "      <td>2023-12-15</td>\n",
       "      <td>7</td>\n",
       "      <td>Chiara</td>\n",
       "      <td>C1</td>\n",
       "      <td>C101</td>\n",
       "      <td>Venerdì</td>\n",
       "      <td>Dicembre</td>\n",
       "      <td>2023</td>\n",
       "    </tr>\n",
       "    <tr>\n",
       "      <th>188</th>\n",
       "      <td>189</td>\n",
       "      <td>2023-12-27</td>\n",
       "      <td>7</td>\n",
       "      <td>Chiara</td>\n",
       "      <td>C1</td>\n",
       "      <td>C124</td>\n",
       "      <td>Mercoledì</td>\n",
       "      <td>Dicembre</td>\n",
       "      <td>2023</td>\n",
       "    </tr>\n",
       "  </tbody>\n",
       "</table>\n",
       "</div>"
      ],
      "text/plain": [
       "     Index       Data  Ora  Professorassa Livello Lezione  \\\n",
       "178    179 2023-12-05    7        Lorella      C1    C102   \n",
       "179    180 2023-12-05    9           Anna      B2    B214   \n",
       "180    181 2023-12-06    7       Federica      C1    C128   \n",
       "181    182 2023-12-06   11       Graziana      C1    C102   \n",
       "182    183 2023-12-07    7         Marina      C1    C134   \n",
       "183    184 2023-12-08    8       Federica      C1    C123   \n",
       "184    185 2023-12-12    7        Lorella      C1    C132   \n",
       "185    186 2023-12-13    7       Federica      B2    B210   \n",
       "186    187 2023-12-14   10    Francesca 2      B2    B235   \n",
       "187    188 2023-12-15    7         Chiara      C1    C101   \n",
       "188    189 2023-12-27    7         Chiara      C1    C124   \n",
       "\n",
       "    Giorno della settimana      Mese  Anno  \n",
       "178                Martedì  Dicembre  2023  \n",
       "179                Martedì  Dicembre  2023  \n",
       "180              Mercoledì  Dicembre  2023  \n",
       "181              Mercoledì  Dicembre  2023  \n",
       "182                Giovedì  Dicembre  2023  \n",
       "183                Venerdì  Dicembre  2023  \n",
       "184                Martedì  Dicembre  2023  \n",
       "185              Mercoledì  Dicembre  2023  \n",
       "186                Giovedì  Dicembre  2023  \n",
       "187                Venerdì  Dicembre  2023  \n",
       "188              Mercoledì  Dicembre  2023  "
      ]
     },
     "execution_count": 26,
     "metadata": {},
     "output_type": "execute_result"
    }
   ],
   "source": [
    "df_mese = df[df['Mese'] == 'Dicembre']\n",
    "df_mese"
   ]
  },
  {
   "cell_type": "code",
   "execution_count": 27,
   "metadata": {},
   "outputs": [],
   "source": [
    "df.to_csv('Lezioni.csv')"
   ]
  }
 ],
 "metadata": {
  "kernelspec": {
   "display_name": "Python 3",
   "language": "python",
   "name": "python3"
  },
  "language_info": {
   "codemirror_mode": {
    "name": "ipython",
    "version": 3
   },
   "file_extension": ".py",
   "mimetype": "text/x-python",
   "name": "python",
   "nbconvert_exporter": "python",
   "pygments_lexer": "ipython3",
   "version": "3.11.5"
  }
 },
 "nbformat": 4,
 "nbformat_minor": 2
}
